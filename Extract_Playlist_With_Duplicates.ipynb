{
 "cells": [
  {
   "cell_type": "code",
   "execution_count": 178,
   "metadata": {},
   "outputs": [],
   "source": [
    "# jupyter nbconvert --to python Extract_Playlist_With_Duplicates.ipynb\n",
    "\n",
    "import spotipy\n",
    "from spotipy.oauth2 import SpotifyClientCredentials\n",
    "import csv\n",
    "import pandas as pd\n",
    "import numpy as np"
   ]
  },
  {
   "cell_type": "code",
   "execution_count": 179,
   "metadata": {},
   "outputs": [
    {
     "name": "stdout",
     "output_type": "stream",
     "text": [
      "...Making CSV...\n"
     ]
    }
   ],
   "source": [
    "print(\"...Making CSV...\")"
   ]
  },
  {
   "cell_type": "code",
   "execution_count": 180,
   "metadata": {},
   "outputs": [],
   "source": [
    "#Authentication - without user\n",
    "with open(r\"C:\\Users\\mackt\\Python\\Music Library\\Spotify_App_Credentials.txt\") as f:\n",
    "    sac_lines = f.readlines()\n",
    "    cid = sac_lines[0].split(\", \")\n",
    "    cid = cid[1].split(\"\\n\")\n",
    "    cid = cid[0]\n",
    "    # print(cid)\n",
    "    secret = sac_lines[1].split(\", \")\n",
    "    secret = secret[1]\n",
    "    # print(secret)"
   ]
  },
  {
   "cell_type": "code",
   "execution_count": 181,
   "metadata": {},
   "outputs": [],
   "source": [
    "client_credentials_manager = SpotifyClientCredentials(client_id=cid, client_secret=secret)\n",
    "sp = spotipy.Spotify(client_credentials_manager = client_credentials_manager)"
   ]
  },
  {
   "cell_type": "code",
   "execution_count": 182,
   "metadata": {},
   "outputs": [],
   "source": [
    "playlist_link = \"https://open.spotify.com/playlist/7LaicnuGlBjUoHZ5Rd4tjm?si=e9f47ebd992b4d08\"\n",
    "playlist_URI = playlist_link.split(\"/\")[-1].split(\"?\")[0]"
   ]
  },
  {
   "cell_type": "code",
   "execution_count": 183,
   "metadata": {},
   "outputs": [],
   "source": [
    "\n",
    "# for track in sp.playlist_tracks(playlist_URI)[\"items\"]:\n",
    "#     artist_uri = track[\"track\"][\"artists\"][0][\"uri\"]\n",
    "#     artist_info = sp.artist(artist_uri)\n",
    "# print(artist_info)"
   ]
  },
  {
   "cell_type": "code",
   "execution_count": 184,
   "metadata": {},
   "outputs": [],
   "source": [
    "# print(sp.playlist_tracks(playlist_URI))"
   ]
  },
  {
   "cell_type": "code",
   "execution_count": 185,
   "metadata": {},
   "outputs": [],
   "source": [
    "# for track in sp.playlist_tracks(playlist_URI)[\"items\"]:\n",
    "#     track_uri = track[\"track\"][\"uri\"]\n",
    "\n",
    "# print(sp.track(track_uri))"
   ]
  },
  {
   "cell_type": "code",
   "execution_count": 186,
   "metadata": {},
   "outputs": [],
   "source": [
    "# for track in sp.playlist_tracks(playlist_URI)[\"items\"]:\n",
    "#     track_uri = track[\"track\"][\"uri\"]\n",
    "\n",
    "# print(sp.audio_features(track_uri)[0])"
   ]
  },
  {
   "cell_type": "code",
   "execution_count": 187,
   "metadata": {},
   "outputs": [],
   "source": [
    "# Song Library\n",
    "track_id = 1\n",
    "\n",
    "sl_tr_id = []\n",
    "sl_tr_uri = []\n",
    "sl_tr_uri1 = []\n",
    "sl_tr_uri2 = []\n",
    "sl_tr_uri3 = []\n",
    "sl_tr_uri4 = []\n",
    "sl_tr_uri5 = []\n",
    "sl_tr_name = []\n",
    "\n",
    "sl_ar_uri = []\n",
    "sl_ar_uri1 = []\n",
    "sl_ar_uri2 = []\n",
    "sl_ar_uri3 = []\n",
    "sl_ar_uri4 = []\n",
    "sl_ar_uri5 = []\n",
    "sl_ar_uri6 = []\n",
    "sl_ar_uri7 = []\n",
    "sl_ar_uri8 = []\n",
    "sl_ar_uri9 = []\n",
    "sl_ar_uri10 = []\n",
    "sl_ar_names =[]\n",
    "sl_ar_name = []\n",
    "sl_ar_name2 = []\n",
    "sl_ar_name3 = []\n",
    "sl_ar_name4 = []\n",
    "sl_ar_name5 = []\n",
    "sl_ar_name6 = []\n",
    "sl_ar_name7 = []\n",
    "sl_ar_name8 = []\n",
    "sl_ar_name9 = []\n",
    "sl_ar_name10 = []\n",
    "\n",
    "sl_tr_duration_ms =[]\n",
    "sl_tr_album = []\n",
    "sl_tr_pop = []\n",
    "\n",
    "sl_tr_danceability = []\n",
    "sl_tr_energy = []\n",
    "sl_tr_key = []\n",
    "sl_tr_loudness = []\n",
    "sl_tr_mode = []\n",
    "sl_tr_speechiness = []\n",
    "sl_tr_acousticness = []\n",
    "sl_tr_instrumentalness = []\n",
    "sl_tr_liveness = []\n",
    "sl_tr_valence = []\n",
    "sl_tr_tempo = []\n",
    "\n",
    "Duplicate_Index = []\n",
    "Duplicate_ID = []"
   ]
  },
  {
   "cell_type": "code",
   "execution_count": 188,
   "metadata": {},
   "outputs": [],
   "source": [
    "for track in sp.playlist_tracks(playlist_URI)[\"items\"]:\n",
    "    # Track Name and URI\n",
    "    track_name = track[\"track\"][\"name\"]\n",
    "    track_uri = track[\"track\"][\"uri\"]\n",
    "\n",
    "    # Artists\n",
    "    track_artists_name = []\n",
    "    track_artists_uri = []\n",
    "\n",
    "    i = 0\n",
    "    for i in range (10):\n",
    "        artist_uri = track[\"track\"][\"artists\"][i][\"uri\"]\n",
    "\n",
    "        track_artists_uri.append(track[\"track\"][\"artists\"][i][\"uri\"])\n",
    "        track_artists_name.append(track[\"track\"][\"artists\"][i][\"name\"])\n",
    "\n",
    "        i = i + 1\n",
    "        try: track[\"track\"][\"artists\"][i][\"name\"]\n",
    "        except IndexError:\n",
    "            for y in range (10-i):\n",
    "                track_artists_uri.append(\"\")\n",
    "                track_artists_name.append(\"\")\n",
    "            break\n",
    "\n",
    "    # Add Artists To Song Library\n",
    "    sl_ar_uri.append(track_artists_uri)\n",
    "\n",
    "    sl_ar_names.append(track_artists_name)\n",
    "\n",
    "    sl_ar_name.append(track_artists_name[0])\n",
    "    sl_ar_name2.append(track_artists_name[1])\n",
    "    sl_ar_name3.append(track_artists_name[2])\n",
    "    sl_ar_name4.append(track_artists_name[3])\n",
    "    sl_ar_name5.append(track_artists_name[4])\n",
    "    sl_ar_name6.append(track_artists_name[5])\n",
    "    sl_ar_name7.append(track_artists_name[6])\n",
    "    sl_ar_name8.append(track_artists_name[7])\n",
    "    sl_ar_name9.append(track_artists_name[8])\n",
    "    sl_ar_name10.append(track_artists_name[9])\n",
    "\n",
    "    # Track Duration\n",
    "    track_duration_ms = sp.audio_features(track_uri)[0][\"duration_ms\"]\n",
    "    sl_tr_duration_ms.append(track_duration_ms)\n",
    "\n",
    "    # Track Album\n",
    "    album = track[\"track\"][\"album\"][\"name\"]\n",
    "    sl_tr_album.append(album)\n",
    "\n",
    "    # Track Popularity\n",
    "    track_pop = track[\"track\"][\"popularity\"]\n",
    "    sl_tr_pop.append(track_pop)\n",
    "\n",
    "    # Track Audio Features\n",
    "    sl_tr_danceability.append(sp.audio_features(track_uri)[0][\"danceability\"])\n",
    "    sl_tr_energy.append(sp.audio_features(track_uri)[0][\"energy\"])\n",
    "    sl_tr_key.append(sp.audio_features(track_uri)[0][\"key\"])\n",
    "    sl_tr_loudness.append(sp.audio_features(track_uri)[0][\"loudness\"])\n",
    "    sl_tr_mode.append(sp.audio_features(track_uri)[0][\"mode\"])\n",
    "    sl_tr_speechiness.append(sp.audio_features(track_uri)[0][\"speechiness\"])\n",
    "    sl_tr_acousticness.append(sp.audio_features(track_uri)[0][\"acousticness\"])\n",
    "    sl_tr_instrumentalness.append(sp.audio_features(track_uri)[0][\"instrumentalness\"])\n",
    "    sl_tr_liveness.append(sp.audio_features(track_uri)[0][\"liveness\"])\n",
    "    sl_tr_valence.append(sp.audio_features(track_uri)[0][\"valence\"])\n",
    "    sl_tr_tempo.append(sp.audio_features(track_uri)[0][\"tempo\"])\n",
    "\n",
    "    # Duplicate Songs\n",
    "    track_uris = []\n",
    "\n",
    "    current_index = len(sl_tr_name)\n",
    "    if track_name in sl_tr_name:\n",
    "        dup_index = sl_tr_name.index(track_name)\n",
    "        if sl_ar_uri[dup_index] == track_artists_uri:\n",
    "            Duplicate_Index[dup_index] = dup_index\n",
    "            Duplicate_Index.append(dup_index)\n",
    "            sl_tr_uri[dup_index].append(track_uri)\n",
    "            track_uris = sl_tr_uri[dup_index]\n",
    "            # if len(sl_tr_uri[dup_index]) == 1\n",
    "\n",
    "    else:\n",
    "        Duplicate_Index.append('')\n",
    "    # Add Track Name Now\n",
    "    # Avoids disturbing Duplicates\n",
    "    sl_tr_name.append(track_name)\n",
    "    sl_tr_uri.append(track_uris)"
   ]
  },
  {
   "cell_type": "code",
   "execution_count": 196,
   "metadata": {},
   "outputs": [
    {
     "name": "stdout",
     "output_type": "stream",
     "text": [
      "['', 3, 5]\n",
      "['' '3' '5']\n",
      "[6 3 2]\n",
      "3\n",
      "6\n",
      "['', '', '', 3, 3, 5, '', '', '', 5, 3]\n"
     ]
    }
   ],
   "source": [
    "mylist = list(set(Duplicate_Index))\n",
    "print(mylist)\n",
    "\n",
    "values, counts = np.unique(Duplicate_Index, return_counts=True)\n",
    "print(values)\n",
    "print(counts)\n",
    "print(values[1])\n",
    "print(counts[0])\n",
    "print(Duplicate_Index)"
   ]
  },
  {
   "cell_type": "code",
   "execution_count": 195,
   "metadata": {},
   "outputs": [
    {
     "ename": "AttributeError",
     "evalue": "'numpy.ndarray' object has no attribute 'index'",
     "output_type": "error",
     "traceback": [
      "\u001b[1;31m---------------------------------------------------------------------------\u001b[0m",
      "\u001b[1;31mAttributeError\u001b[0m                            Traceback (most recent call last)",
      "\u001b[1;32m<ipython-input-195-da521fd9a85e>\u001b[0m in \u001b[0;36m<module>\u001b[1;34m\u001b[0m\n\u001b[0;32m      2\u001b[0m \u001b[1;33m\u001b[0m\u001b[0m\n\u001b[0;32m      3\u001b[0m \u001b[1;32mfor\u001b[0m \u001b[0mi\u001b[0m \u001b[1;32min\u001b[0m \u001b[0mrange\u001b[0m\u001b[1;33m(\u001b[0m\u001b[0mlen\u001b[0m\u001b[1;33m(\u001b[0m\u001b[0mDuplicate_Index\u001b[0m\u001b[1;33m)\u001b[0m\u001b[1;33m-\u001b[0m\u001b[1;36m1\u001b[0m\u001b[1;33m)\u001b[0m\u001b[1;33m:\u001b[0m\u001b[1;33m\u001b[0m\u001b[1;33m\u001b[0m\u001b[0m\n\u001b[1;32m----> 4\u001b[1;33m     \u001b[0mindex\u001b[0m \u001b[1;33m=\u001b[0m \u001b[0mvalues\u001b[0m\u001b[1;33m.\u001b[0m\u001b[0mindex\u001b[0m\u001b[1;33m(\u001b[0m\u001b[0mDuplicate_Index\u001b[0m\u001b[1;33m[\u001b[0m\u001b[0mi\u001b[0m\u001b[1;33m]\u001b[0m\u001b[1;33m)\u001b[0m\u001b[1;33m\u001b[0m\u001b[1;33m\u001b[0m\u001b[0m\n\u001b[0m\u001b[0;32m      5\u001b[0m \u001b[1;33m\u001b[0m\u001b[0m\n\u001b[0;32m      6\u001b[0m     \u001b[1;31m# y = np.where(values == Duplicate_Index[i])\u001b[0m\u001b[1;33m\u001b[0m\u001b[1;33m\u001b[0m\u001b[1;33m\u001b[0m\u001b[0m\n",
      "\u001b[1;31mAttributeError\u001b[0m: 'numpy.ndarray' object has no attribute 'index'"
     ]
    }
   ],
   "source": [
    "num_duplicates = []\n",
    "\n",
    "for i in range(len(Duplicate_Index)-1):\n",
    "    index = values.index(Duplicate_Index[i])\n",
    "    \n",
    "    # y = np.where(values == Duplicate_Index[i])\n",
    "    # num_duplicates.append(counts[y])"
   ]
  },
  {
   "cell_type": "code",
   "execution_count": null,
   "metadata": {},
   "outputs": [],
   "source": [
    "# print(sp.audio_features(track_uri)[0])"
   ]
  },
  {
   "cell_type": "code",
   "execution_count": null,
   "metadata": {},
   "outputs": [
    {
     "ename": "ValueError",
     "evalue": "Length of values (0) does not match length of index (11)",
     "output_type": "error",
     "traceback": [
      "\u001b[1;31m---------------------------------------------------------------------------\u001b[0m",
      "\u001b[1;31mValueError\u001b[0m                                Traceback (most recent call last)",
      "\u001b[1;32m<ipython-input-165-ce561512cc96>\u001b[0m in \u001b[0;36m<module>\u001b[1;34m\u001b[0m\n\u001b[0;32m     33\u001b[0m \u001b[1;33m\u001b[0m\u001b[0m\n\u001b[0;32m     34\u001b[0m \u001b[0mdf\u001b[0m\u001b[1;33m[\u001b[0m\u001b[1;34m'URI 1'\u001b[0m\u001b[1;33m]\u001b[0m \u001b[1;33m=\u001b[0m \u001b[0msl_tr_uri\u001b[0m\u001b[1;33m\u001b[0m\u001b[1;33m\u001b[0m\u001b[0m\n\u001b[1;32m---> 35\u001b[1;33m \u001b[0mdf\u001b[0m\u001b[1;33m[\u001b[0m\u001b[1;34m'URI 2'\u001b[0m\u001b[1;33m]\u001b[0m \u001b[1;33m=\u001b[0m \u001b[0msl_tr_uri2\u001b[0m\u001b[1;33m\u001b[0m\u001b[1;33m\u001b[0m\u001b[0m\n\u001b[0m\u001b[0;32m     36\u001b[0m \u001b[0mdf\u001b[0m\u001b[1;33m[\u001b[0m\u001b[1;34m'URI 3'\u001b[0m\u001b[1;33m]\u001b[0m \u001b[1;33m=\u001b[0m \u001b[0msl_tr_uri3\u001b[0m\u001b[1;33m\u001b[0m\u001b[1;33m\u001b[0m\u001b[0m\n\u001b[0;32m     37\u001b[0m \u001b[0mdf\u001b[0m\u001b[1;33m[\u001b[0m\u001b[1;34m'URI 4'\u001b[0m\u001b[1;33m]\u001b[0m \u001b[1;33m=\u001b[0m \u001b[0msl_tr_uri4\u001b[0m\u001b[1;33m\u001b[0m\u001b[1;33m\u001b[0m\u001b[0m\n",
      "\u001b[1;32m~\\AppData\\Roaming\\Python\\Python39\\site-packages\\pandas\\core\\frame.py\u001b[0m in \u001b[0;36m__setitem__\u001b[1;34m(self, key, value)\u001b[0m\n\u001b[0;32m   3161\u001b[0m         \u001b[1;32melse\u001b[0m\u001b[1;33m:\u001b[0m\u001b[1;33m\u001b[0m\u001b[1;33m\u001b[0m\u001b[0m\n\u001b[0;32m   3162\u001b[0m             \u001b[1;31m# set column\u001b[0m\u001b[1;33m\u001b[0m\u001b[1;33m\u001b[0m\u001b[1;33m\u001b[0m\u001b[0m\n\u001b[1;32m-> 3163\u001b[1;33m             \u001b[0mself\u001b[0m\u001b[1;33m.\u001b[0m\u001b[0m_set_item\u001b[0m\u001b[1;33m(\u001b[0m\u001b[0mkey\u001b[0m\u001b[1;33m,\u001b[0m \u001b[0mvalue\u001b[0m\u001b[1;33m)\u001b[0m\u001b[1;33m\u001b[0m\u001b[1;33m\u001b[0m\u001b[0m\n\u001b[0m\u001b[0;32m   3164\u001b[0m \u001b[1;33m\u001b[0m\u001b[0m\n\u001b[0;32m   3165\u001b[0m     \u001b[1;32mdef\u001b[0m \u001b[0m_setitem_slice\u001b[0m\u001b[1;33m(\u001b[0m\u001b[0mself\u001b[0m\u001b[1;33m,\u001b[0m \u001b[0mkey\u001b[0m\u001b[1;33m:\u001b[0m \u001b[0mslice\u001b[0m\u001b[1;33m,\u001b[0m \u001b[0mvalue\u001b[0m\u001b[1;33m)\u001b[0m\u001b[1;33m:\u001b[0m\u001b[1;33m\u001b[0m\u001b[1;33m\u001b[0m\u001b[0m\n",
      "\u001b[1;32m~\\AppData\\Roaming\\Python\\Python39\\site-packages\\pandas\\core\\frame.py\u001b[0m in \u001b[0;36m_set_item\u001b[1;34m(self, key, value)\u001b[0m\n\u001b[0;32m   3240\u001b[0m         \"\"\"\n\u001b[0;32m   3241\u001b[0m         \u001b[0mself\u001b[0m\u001b[1;33m.\u001b[0m\u001b[0m_ensure_valid_index\u001b[0m\u001b[1;33m(\u001b[0m\u001b[0mvalue\u001b[0m\u001b[1;33m)\u001b[0m\u001b[1;33m\u001b[0m\u001b[1;33m\u001b[0m\u001b[0m\n\u001b[1;32m-> 3242\u001b[1;33m         \u001b[0mvalue\u001b[0m \u001b[1;33m=\u001b[0m \u001b[0mself\u001b[0m\u001b[1;33m.\u001b[0m\u001b[0m_sanitize_column\u001b[0m\u001b[1;33m(\u001b[0m\u001b[0mkey\u001b[0m\u001b[1;33m,\u001b[0m \u001b[0mvalue\u001b[0m\u001b[1;33m)\u001b[0m\u001b[1;33m\u001b[0m\u001b[1;33m\u001b[0m\u001b[0m\n\u001b[0m\u001b[0;32m   3243\u001b[0m         \u001b[0mNDFrame\u001b[0m\u001b[1;33m.\u001b[0m\u001b[0m_set_item\u001b[0m\u001b[1;33m(\u001b[0m\u001b[0mself\u001b[0m\u001b[1;33m,\u001b[0m \u001b[0mkey\u001b[0m\u001b[1;33m,\u001b[0m \u001b[0mvalue\u001b[0m\u001b[1;33m)\u001b[0m\u001b[1;33m\u001b[0m\u001b[1;33m\u001b[0m\u001b[0m\n\u001b[0;32m   3244\u001b[0m \u001b[1;33m\u001b[0m\u001b[0m\n",
      "\u001b[1;32m~\\AppData\\Roaming\\Python\\Python39\\site-packages\\pandas\\core\\frame.py\u001b[0m in \u001b[0;36m_sanitize_column\u001b[1;34m(self, key, value, broadcast)\u001b[0m\n\u001b[0;32m   3897\u001b[0m \u001b[1;33m\u001b[0m\u001b[0m\n\u001b[0;32m   3898\u001b[0m             \u001b[1;31m# turn me into an ndarray\u001b[0m\u001b[1;33m\u001b[0m\u001b[1;33m\u001b[0m\u001b[1;33m\u001b[0m\u001b[0m\n\u001b[1;32m-> 3899\u001b[1;33m             \u001b[0mvalue\u001b[0m \u001b[1;33m=\u001b[0m \u001b[0msanitize_index\u001b[0m\u001b[1;33m(\u001b[0m\u001b[0mvalue\u001b[0m\u001b[1;33m,\u001b[0m \u001b[0mself\u001b[0m\u001b[1;33m.\u001b[0m\u001b[0mindex\u001b[0m\u001b[1;33m)\u001b[0m\u001b[1;33m\u001b[0m\u001b[1;33m\u001b[0m\u001b[0m\n\u001b[0m\u001b[0;32m   3900\u001b[0m             \u001b[1;32mif\u001b[0m \u001b[1;32mnot\u001b[0m \u001b[0misinstance\u001b[0m\u001b[1;33m(\u001b[0m\u001b[0mvalue\u001b[0m\u001b[1;33m,\u001b[0m \u001b[1;33m(\u001b[0m\u001b[0mnp\u001b[0m\u001b[1;33m.\u001b[0m\u001b[0mndarray\u001b[0m\u001b[1;33m,\u001b[0m \u001b[0mIndex\u001b[0m\u001b[1;33m)\u001b[0m\u001b[1;33m)\u001b[0m\u001b[1;33m:\u001b[0m\u001b[1;33m\u001b[0m\u001b[1;33m\u001b[0m\u001b[0m\n\u001b[0;32m   3901\u001b[0m                 \u001b[1;32mif\u001b[0m \u001b[0misinstance\u001b[0m\u001b[1;33m(\u001b[0m\u001b[0mvalue\u001b[0m\u001b[1;33m,\u001b[0m \u001b[0mlist\u001b[0m\u001b[1;33m)\u001b[0m \u001b[1;32mand\u001b[0m \u001b[0mlen\u001b[0m\u001b[1;33m(\u001b[0m\u001b[0mvalue\u001b[0m\u001b[1;33m)\u001b[0m \u001b[1;33m>\u001b[0m \u001b[1;36m0\u001b[0m\u001b[1;33m:\u001b[0m\u001b[1;33m\u001b[0m\u001b[1;33m\u001b[0m\u001b[0m\n",
      "\u001b[1;32m~\\AppData\\Roaming\\Python\\Python39\\site-packages\\pandas\\core\\internals\\construction.py\u001b[0m in \u001b[0;36msanitize_index\u001b[1;34m(data, index)\u001b[0m\n\u001b[0;32m    749\u001b[0m     \"\"\"\n\u001b[0;32m    750\u001b[0m     \u001b[1;32mif\u001b[0m \u001b[0mlen\u001b[0m\u001b[1;33m(\u001b[0m\u001b[0mdata\u001b[0m\u001b[1;33m)\u001b[0m \u001b[1;33m!=\u001b[0m \u001b[0mlen\u001b[0m\u001b[1;33m(\u001b[0m\u001b[0mindex\u001b[0m\u001b[1;33m)\u001b[0m\u001b[1;33m:\u001b[0m\u001b[1;33m\u001b[0m\u001b[1;33m\u001b[0m\u001b[0m\n\u001b[1;32m--> 751\u001b[1;33m         raise ValueError(\n\u001b[0m\u001b[0;32m    752\u001b[0m             \u001b[1;34m\"Length of values \"\u001b[0m\u001b[1;33m\u001b[0m\u001b[1;33m\u001b[0m\u001b[0m\n\u001b[0;32m    753\u001b[0m             \u001b[1;34mf\"({len(data)}) \"\u001b[0m\u001b[1;33m\u001b[0m\u001b[1;33m\u001b[0m\u001b[0m\n",
      "\u001b[1;31mValueError\u001b[0m: Length of values (0) does not match length of index (11)"
     ]
    }
   ],
   "source": [
    "# Song Library\n",
    "df = pd.DataFrame()\n",
    "\n",
    "df['ID'] = ''\n",
    "df['Duplicates'] = Duplicate_Index\n",
    "df['Num_Duplicates'] = num_duplicates\n",
    "df['Song'] = sl_tr_name\n",
    "df['Artist 1'] = sl_ar_name\n",
    "df['Artist 2'] = sl_ar_name2\n",
    "df['Artist 3'] = sl_ar_name3\n",
    "df['Artist 4'] = sl_ar_name4\n",
    "df['Artist 5'] = sl_ar_name5\n",
    "df['Artist 6'] = sl_ar_name6\n",
    "df['Artist 7'] = sl_ar_name7\n",
    "df['Artist 8'] = sl_ar_name8\n",
    "df['Artist 9'] = sl_ar_name9\n",
    "df['Artist 10'] = sl_ar_name10\n",
    "df['Duration'] = sl_tr_duration_ms\n",
    "df['Album'] = sl_tr_album\n",
    "df['Popularity'] = sl_tr_pop\n",
    "\n",
    "df['Dance'] = sl_tr_danceability\n",
    "df['Energy'] = sl_tr_energy\n",
    "df['Key'] = sl_tr_key\n",
    "df['Volume'] = sl_tr_loudness\n",
    "df['Mode'] = sl_tr_mode\n",
    "df['Speech'] = sl_tr_speechiness\n",
    "df['Acoustic'] = sl_tr_acousticness\n",
    "df['Instrumental'] = sl_tr_instrumentalness\n",
    "df['Lively'] = sl_tr_liveness\n",
    "df['Valence'] = sl_tr_valence\n",
    "df['Tempo'] = sl_tr_tempo\n",
    "\n",
    "df['URI 1'] = sl_tr_uri\n",
    "df['URI 2'] = sl_tr_uri2\n",
    "df['URI 3'] = sl_tr_uri3\n",
    "df['URI 4'] = sl_tr_uri4\n",
    "df['URI 5'] = sl_tr_uri5\n",
    "df['Artists URIs'] = sl_ar_uri\n",
    "df['Artist URI 1'] = sl_ar_uri1\n",
    "df['Artist URI 2'] = sl_ar_uri2\n",
    "df['Artist URI 3'] = sl_ar_uri3\n",
    "df['Artist URI 4'] = sl_ar_uri4\n",
    "df['Artist URI 5'] = sl_ar_uri5\n",
    "df['Artist URI 6'] = sl_ar_uri6\n",
    "df['Artist URI 7'] = sl_ar_uri7\n",
    "df['Artist URI 8'] = sl_ar_uri8\n",
    "df['Artist URI 9'] = sl_ar_uri9\n",
    "df['Artist URI 10'] = sl_ar_uri10\n",
    "\n",
    "# Sort Alphabetically by Artist -> Album -> Song\n",
    "df = df.sort_values(['Artist 1', 'Album', 'Song'], ascending = True, key = lambda col: col.str.lower())\n",
    "\n",
    "# Track IDs\n",
    "sl_tr_id = list(range(1,len(sl_tr_name)+1))\n",
    "df['ID'] = sl_tr_id\n",
    "\n",
    "# Creating CSV of Entire Playlist\n",
    "df.to_csv(r'C:\\Users\\mackt\\Python\\Music Library\\Data\\Music_Gala.csv',index = False)\n",
    "\n",
    "# Dropping Duplicates\n",
    "df = df.sort_values(['Popularity'], ascending = False)\n",
    "df = df.drop_duplicates(subset = ['Song', 'Artist 1', 'Artist 2', 'Artist 3', 'Artist 4', 'Artist 5'], keep = 'first')\n",
    "df = df.sort_values(['Artist 1', 'Album', 'Song'], ascending = True, key = lambda col: col.str.lower())\n",
    "\n",
    "# Creating CSV of Entire Playlist Without Duplicates\n",
    "df.to_csv(r'C:\\Users\\mackt\\Python\\Music Library\\Data\\Music_Gala_No_Duplicates.csv',index = False)"
   ]
  },
  {
   "cell_type": "code",
   "execution_count": null,
   "metadata": {},
   "outputs": [],
   "source": [
    "# # Duplicate Track Highlighting\n",
    "# Duplicate_Tracks = pd.read_csv(r'C:\\Users\\mackt\\Python\\Music Library\\Data\\Music_Gala.csv', names = ['Duplicates'])\n",
    "\n",
    "# def Duplicate_Tracks(row):\n",
    "#     if row['Duplicates'] != '':\n",
    "#         return ['background-color: red'] * len(row)\n",
    "#     else:\n",
    "#         return ['background-color: green'] * len(row)\n",
    "\n",
    "# df.style.apply(Duplicate_Tracks, axis = 1)"
   ]
  },
  {
   "cell_type": "code",
   "execution_count": null,
   "metadata": {},
   "outputs": [],
   "source": [
    "# print(df)"
   ]
  }
 ],
 "metadata": {
  "interpreter": {
   "hash": "57baa5815c940fdaff4d14510622de9616cae602444507ba5d0b6727c008cbd6"
  },
  "kernelspec": {
   "display_name": "Python 3.7.8 64-bit",
   "language": "python",
   "name": "python3"
  },
  "language_info": {
   "codemirror_mode": {
    "name": "ipython",
    "version": 3
   },
   "file_extension": ".py",
   "mimetype": "text/x-python",
   "name": "python",
   "nbconvert_exporter": "python",
   "pygments_lexer": "ipython3",
   "version": "3.9.3"
  },
  "orig_nbformat": 4
 },
 "nbformat": 4,
 "nbformat_minor": 2
}
