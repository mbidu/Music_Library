{
 "cells": [
  {
   "cell_type": "code",
   "execution_count": null,
   "metadata": {},
   "outputs": [],
   "source": [
    "import spotipy\n",
    "from spotipy.oauth2 import SpotifyClientCredentials\n",
    "import csv\n",
    "import pandas as pd"
   ]
  },
  {
   "cell_type": "code",
   "execution_count": null,
   "metadata": {},
   "outputs": [],
   "source": [
    "#Authentication - without user\n",
    "with open(r\"C:\\Users\\mackt\\Python\\Music Libarary\\Spotify_App_Credentials.txt\") as f:\n",
    "    sac_lines = f.readlines()\n",
    "    cid = sac_lines[0].split(\", \")\n",
    "    cid = cid[1].split(\"\\n\")\n",
    "    cid = cid[0]\n",
    "    print(cid)\n",
    "    secret = sac_lines[1].split(\", \")\n",
    "    secret = secret[1]\n",
    "    print(secret)"
   ]
  },
  {
   "cell_type": "code",
   "execution_count": null,
   "metadata": {},
   "outputs": [],
   "source": [
    "client_credentials_manager = SpotifyClientCredentials(client_id=cid, client_secret=secret)\n",
    "sp = spotipy.Spotify(client_credentials_manager = client_credentials_manager)"
   ]
  },
  {
   "cell_type": "code",
   "execution_count": null,
   "metadata": {},
   "outputs": [],
   "source": [
    "playlist_link = \"https://open.spotify.com/playlist/7LaicnuGlBjUoHZ5Rd4tjm?si=e9f47ebd992b4d08\"\n",
    "# spotify:playlist:7LaicnuGlBjUoHZ5Rd4tjm\n",
    "playlist_URI = playlist_link.split(\"/\")[-1].split(\"?\")[0]\n",
    "\n",
    "# track_uris = [x[\"track\"][\"uri\"] for x in sp.playlist_tracks(playlist_URI)[\"items\"]]\n",
    "# print(track_uris)"
   ]
  },
  {
   "cell_type": "code",
   "execution_count": null,
   "metadata": {},
   "outputs": [],
   "source": [
    "\n",
    "for track in sp.playlist_tracks(playlist_URI)[\"items\"]:\n",
    "    artist_uri = track[\"track\"][\"artists\"][0][\"uri\"]\n",
    "    artist_info = sp.artist(artist_uri)\n",
    "print(artist_info)"
   ]
  },
  {
   "cell_type": "code",
   "execution_count": null,
   "metadata": {},
   "outputs": [],
   "source": [
    "print(sp.playlist_tracks(playlist_URI))"
   ]
  },
  {
   "cell_type": "code",
   "execution_count": null,
   "metadata": {},
   "outputs": [],
   "source": [
    "for track in sp.playlist_tracks(playlist_URI)[\"items\"]:\n",
    "    track_uri = track[\"track\"][\"uri\"]\n",
    "\n",
    "print(sp.track(track_uri))"
   ]
  },
  {
   "cell_type": "code",
   "execution_count": null,
   "metadata": {},
   "outputs": [],
   "source": [
    "for track in sp.playlist_tracks(playlist_URI)[\"items\"]:\n",
    "    track_uri = track[\"track\"][\"uri\"]\n",
    "\n",
    "print(sp.audio_features(track_uri)[0])"
   ]
  },
  {
   "cell_type": "code",
   "execution_count": null,
   "metadata": {},
   "outputs": [],
   "source": [
    "track_id = 1\n",
    "artist_id = 1\n",
    "\n",
    "# Artist Library\n",
    "al_id = []\n",
    "al_uri = []\n",
    "al_name = []\n",
    "al_pop = []\n",
    "al_genres = []\n",
    "al_followers = []\n",
    "\n",
    "# Song Library\n",
    "sl_tr_id = []\n",
    "sl_tr_uri = []\n",
    "sl_tr_name = []\n",
    "sl_ar_uri = []\n",
    "sl_ar_name = []\n",
    "sl_tr_duration_ms =[]\n",
    "sl_tr_album = []\n",
    "sl_tr_pop = []\n",
    "\n",
    "sl_tr_danceability = []\n",
    "sl_tr_energy = []\n",
    "sl_tr_key = []\n",
    "sl_tr_loudness = []\n",
    "sl_tr_mode = []\n",
    "sl_tr_speechiness = []\n",
    "sl_tr_acousticness = []\n",
    "sl_tr_instrumentalness = []\n",
    "sl_tr_liveness = []\n",
    "sl_tr_valence = []\n",
    "sl_tr_tempo = []"
   ]
  },
  {
   "cell_type": "code",
   "execution_count": null,
   "metadata": {},
   "outputs": [],
   "source": [
    "for track in sp.playlist_tracks(playlist_URI)[\"items\"]:\n",
    "    # ID\n",
    "    sl_tr_id.append(track_id)\n",
    "    track_id = track_id + 1\n",
    "\n",
    "    # Tracks\n",
    "    track_uri = track[\"track\"][\"uri\"]\n",
    "    sl_tr_uri.append(track_uri)\n",
    "    track_name = track[\"track\"][\"name\"]\n",
    "    sl_tr_name.append(track_name)\n",
    "\n",
    "    track_artists_name = []\n",
    "    track_artists_uri = []\n",
    "\n",
    "    # Artists\n",
    "    i = 0\n",
    "    for i in range (11):\n",
    "        artist_uri = track[\"track\"][\"artists\"][i][\"uri\"]\n",
    "\n",
    "        # Add New Artists To Artist Library\n",
    "        if artist_uri not in al_uri:\n",
    "            al_id.append(artist_id)\n",
    "            artist_id = artist_id + 1\n",
    "\n",
    "            al_uri.append(artist_uri)\n",
    "\n",
    "            artist_info = sp.artist(artist_uri)\n",
    "\n",
    "            artist_name = artist_info[\"name\"]\n",
    "            al_name.append(artist_name)\n",
    "\n",
    "            artist_pop = artist_info[\"popularity\"]\n",
    "            al_pop.append(artist_pop)\n",
    "\n",
    "            artist_genres = artist_info[\"genres\"]\n",
    "            al_genres.append(artist_genres)\n",
    "\n",
    "            artist_followers = artist_info[\"followers\"][\"total\"]\n",
    "            al_followers.append(artist_followers)\n",
    "\n",
    "        track_artists_uri.append(track[\"track\"][\"artists\"][i][\"uri\"])\n",
    "        track_artists_name.append(track[\"track\"][\"artists\"][i][\"name\"])\n",
    "\n",
    "        i = i + 1\n",
    "        try: track[\"track\"][\"artists\"][i][\"name\"]\n",
    "        except IndexError:\n",
    "            break\n",
    "\n",
    "    # Add Artists To Song Library\n",
    "    sl_ar_uri.append(track_artists_uri)\n",
    "    sl_ar_name.append(track_artists_name)\n",
    "\n",
    "    # Track Duration\n",
    "    track_duration_ms = sp.audio_features(track_uri)[0][\"duration_ms\"]\n",
    "    sl_tr_duration_ms.append(track_duration_ms)\n",
    "\n",
    "    # Track Album\n",
    "    album = track[\"track\"][\"album\"][\"name\"]\n",
    "    sl_tr_album.append(album)\n",
    "\n",
    "    # Track Popularity\n",
    "    track_pop = track[\"track\"][\"popularity\"]\n",
    "    sl_tr_pop.append(track_pop)\n",
    "\n",
    "    # Track Audio Features\n",
    "    sl_tr_danceability.append(sp.audio_features(track_uri)[0][\"danceability\"])\n",
    "    sl_tr_energy.append(sp.audio_features(track_uri)[0][\"energy\"])\n",
    "    sl_tr_key.append(sp.audio_features(track_uri)[0][\"key\"])\n",
    "    sl_tr_loudness.append(sp.audio_features(track_uri)[0][\"loudness\"])\n",
    "    sl_tr_mode.append(sp.audio_features(track_uri)[0][\"mode\"])\n",
    "    sl_tr_speechiness.append(sp.audio_features(track_uri)[0][\"speechiness\"])\n",
    "    sl_tr_acousticness.append(sp.audio_features(track_uri)[0][\"acousticness\"])\n",
    "    sl_tr_instrumentalness.append(sp.audio_features(track_uri)[0][\"instrumentalness\"])\n",
    "    sl_tr_liveness.append(sp.audio_features(track_uri)[0][\"liveness\"])\n",
    "    sl_tr_valence.append(sp.audio_features(track_uri)[0][\"valence\"])\n",
    "    sl_tr_tempo.append(sp.audio_features(track_uri)[0][\"tempo\"])"
   ]
  },
  {
   "cell_type": "code",
   "execution_count": null,
   "metadata": {},
   "outputs": [],
   "source": [
    "df = pd.DataFrame()\n",
    "\n",
    "# Artist Library\n",
    "df['ID'] = al_id\n",
    "df['Artist'] = al_name\n",
    "df['Followers'] = al_followers\n",
    "df['Popularity'] = al_pop\n",
    "df['Genres'] = al_genres\n",
    "\n",
    "df['URI'] = al_uri\n",
    "\n",
    "df.to_csv(r'C:\\Users\\mackt\\Python\\Music Libarary\\Data\\Artists_Library.csv',index = False)"
   ]
  },
  {
   "cell_type": "code",
   "execution_count": null,
   "metadata": {},
   "outputs": [],
   "source": [
    "df = pd.DataFrame()\n",
    "\n",
    "# Song Library\n",
    "df['ID'] = sl_tr_id\n",
    "df['Song'] = sl_tr_name\n",
    "df['Artists'] = sl_ar_name\n",
    "df['Duration'] = sl_tr_duration_ms\n",
    "df['Album'] = sl_tr_album\n",
    "df['Popularity'] = sl_tr_pop\n",
    "\n",
    "df['Dance'] = sl_tr_danceability\n",
    "df['Energy'] = sl_tr_energy\n",
    "df['Key'] = sl_tr_key\n",
    "df['Volume'] = sl_tr_loudness\n",
    "df['Mode'] = sl_tr_mode\n",
    "df['Speech'] = sl_tr_speechiness\n",
    "df['Acoustic'] = sl_tr_acousticness\n",
    "df['Instrumental'] = sl_tr_instrumentalness\n",
    "df['Lively'] = sl_tr_liveness\n",
    "df['Valence'] = sl_tr_valence\n",
    "df['Tempo'] = sl_tr_tempo\n",
    "\n",
    "df['URI'] = sl_tr_uri\n",
    "df['Artists URIs'] = sl_ar_uri\n",
    "\n",
    "df.to_csv(r'C:\\Users\\mackt\\Python\\Music Libarary\\Data\\Music_Library.csv',index = False)"
   ]
  },
  {
   "cell_type": "code",
   "execution_count": null,
   "metadata": {},
   "outputs": [],
   "source": [
    "print(sp.audio_features(track_uri)[0])"
   ]
  }
 ],
 "metadata": {
  "interpreter": {
   "hash": "57baa5815c940fdaff4d14510622de9616cae602444507ba5d0b6727c008cbd6"
  },
  "kernelspec": {
   "display_name": "Python 3.7.8 64-bit",
   "language": "python",
   "name": "python3"
  },
  "language_info": {
   "codemirror_mode": {
    "name": "ipython",
    "version": 3
   },
   "file_extension": ".py",
   "mimetype": "text/x-python",
   "name": "python",
   "nbconvert_exporter": "python",
   "pygments_lexer": "ipython3",
   "version": "3.9.3"
  },
  "orig_nbformat": 4
 },
 "nbformat": 4,
 "nbformat_minor": 2
}
