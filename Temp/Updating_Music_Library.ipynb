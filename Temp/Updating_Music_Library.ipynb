{
 "cells": [
  {
   "cell_type": "code",
   "execution_count": 116,
   "metadata": {},
   "outputs": [],
   "source": [
    "import spotipy\n",
    "from spotipy.oauth2 import SpotifyClientCredentials\n",
    "import csv\n",
    "import pandas as pd"
   ]
  },
  {
   "cell_type": "code",
   "execution_count": 117,
   "metadata": {},
   "outputs": [
    {
     "name": "stdout",
     "output_type": "stream",
     "text": [
      "bb0cd0df6ac84fd8b5b541e017218b95\n",
      "3c79972033ec48da99f235fe11197f10\n"
     ]
    }
   ],
   "source": [
    "#Authentication - without user\n",
    "with open(r\"C:\\Users\\mackt\\Python\\Music Libarary\\Spotify_App_Credentials.txt\") as f:\n",
    "    sac_lines = f.readlines()\n",
    "    cid = sac_lines[0].split(\", \")\n",
    "    cid = cid[1].split(\"\\n\")\n",
    "    cid = cid[0]\n",
    "    print(cid)\n",
    "    secret = sac_lines[1].split(\", \")\n",
    "    secret = secret[1]\n",
    "    print(secret)"
   ]
  },
  {
   "cell_type": "code",
   "execution_count": 118,
   "metadata": {},
   "outputs": [],
   "source": [
    "client_credentials_manager = SpotifyClientCredentials(client_id=cid, client_secret=secret)\n",
    "sp = spotipy.Spotify(client_credentials_manager = client_credentials_manager)"
   ]
  },
  {
   "cell_type": "code",
   "execution_count": 119,
   "metadata": {},
   "outputs": [],
   "source": [
    "playlist_link = \"https://open.spotify.com/playlist/7LaicnuGlBjUoHZ5Rd4tjm?si=e9f47ebd992b4d08\"\n",
    "# spotify:playlist:7LaicnuGlBjUoHZ5Rd4tjm\n",
    "playlist_URI = playlist_link.split(\"/\")[-1].split(\"?\")[0]\n",
    "\n",
    "# track_uris = [x[\"track\"][\"uri\"] for x in sp.playlist_tracks(playlist_URI)[\"items\"]]\n",
    "# print(track_uris)"
   ]
  },
  {
   "cell_type": "code",
   "execution_count": 120,
   "metadata": {},
   "outputs": [
    {
     "name": "stdout",
     "output_type": "stream",
     "text": [
      "{'external_urls': {'spotify': 'https://open.spotify.com/artist/6FBDaR13swtiWwGhX1WQsP'}, 'followers': {'href': None, 'total': 6817495}, 'genres': ['pop punk', 'punk', 'rock', 'socal pop punk'], 'href': 'https://api.spotify.com/v1/artists/6FBDaR13swtiWwGhX1WQsP', 'id': '6FBDaR13swtiWwGhX1WQsP', 'images': [{'height': 640, 'url': 'https://i.scdn.co/image/ab6761610000e5eb0721a0eb3b04c76895b53a8d', 'width': 640}, {'height': 320, 'url': 'https://i.scdn.co/image/ab676161000051740721a0eb3b04c76895b53a8d', 'width': 320}, {'height': 160, 'url': 'https://i.scdn.co/image/ab6761610000f1780721a0eb3b04c76895b53a8d', 'width': 160}], 'name': 'blink-182', 'popularity': 79, 'type': 'artist', 'uri': 'spotify:artist:6FBDaR13swtiWwGhX1WQsP'}\n"
     ]
    }
   ],
   "source": [
    "\n",
    "for track in sp.playlist_tracks(playlist_URI)[\"items\"]:\n",
    "    artist_uri = track[\"track\"][\"artists\"][0][\"uri\"]\n",
    "    artist_info = sp.artist(artist_uri)\n",
    "print(artist_info)"
   ]
  },
  {
   "cell_type": "code",
   "execution_count": 121,
   "metadata": {},
   "outputs": [
    {
     "name": "stdout",
     "output_type": "stream",
     "text": [
      "{'href': 'https://api.spotify.com/v1/playlists/7LaicnuGlBjUoHZ5Rd4tjm/tracks?offset=0&limit=100&additional_types=track', 'items': [{'added_at': '2022-01-13T18:12:38Z', 'added_by': {'external_urls': {'spotify': 'https://open.spotify.com/user/12167982535'}, 'href': 'https://api.spotify.com/v1/users/12167982535', 'id': '12167982535', 'type': 'user', 'uri': 'spotify:user:12167982535'}, 'is_local': False, 'primary_color': None, 'track': {'album': {'album_type': 'single', 'artists': [{'external_urls': {'spotify': 'https://open.spotify.com/artist/0dlDsD7y6ccmDm8tuWCU6F'}, 'href': 'https://api.spotify.com/v1/artists/0dlDsD7y6ccmDm8tuWCU6F', 'id': '0dlDsD7y6ccmDm8tuWCU6F', 'name': 'Freddie Dredd', 'type': 'artist', 'uri': 'spotify:artist:0dlDsD7y6ccmDm8tuWCU6F'}], 'available_markets': ['AD', 'AE', 'AG', 'AL', 'AM', 'AO', 'AR', 'AT', 'AU', 'AZ', 'BA', 'BB', 'BD', 'BE', 'BF', 'BG', 'BH', 'BI', 'BJ', 'BN', 'BO', 'BR', 'BS', 'BT', 'BW', 'BY', 'BZ', 'CA', 'CD', 'CG', 'CH', 'CI', 'CL', 'CM', 'CO', 'CR', 'CV', 'CW', 'CY', 'CZ', 'DE', 'DJ', 'DK', 'DM', 'DO', 'DZ', 'EC', 'EE', 'EG', 'ES', 'FI', 'FJ', 'FM', 'FR', 'GA', 'GB', 'GD', 'GE', 'GH', 'GM', 'GN', 'GQ', 'GR', 'GT', 'GW', 'GY', 'HK', 'HN', 'HR', 'HT', 'HU', 'ID', 'IE', 'IL', 'IN', 'IQ', 'IS', 'IT', 'JM', 'JO', 'JP', 'KE', 'KG', 'KH', 'KI', 'KM', 'KN', 'KR', 'KW', 'KZ', 'LA', 'LB', 'LC', 'LI', 'LK', 'LR', 'LS', 'LT', 'LU', 'LV', 'LY', 'MA', 'MC', 'MD', 'ME', 'MG', 'MH', 'MK', 'ML', 'MN', 'MO', 'MR', 'MT', 'MU', 'MV', 'MW', 'MX', 'MY', 'MZ', 'NA', 'NE', 'NG', 'NI', 'NL', 'NO', 'NP', 'NR', 'NZ', 'OM', 'PA', 'PE', 'PG', 'PH', 'PK', 'PL', 'PS', 'PT', 'PW', 'PY', 'QA', 'RO', 'RS', 'RU', 'RW', 'SA', 'SB', 'SC', 'SE', 'SG', 'SI', 'SK', 'SL', 'SM', 'SN', 'SR', 'ST', 'SV', 'SZ', 'TD', 'TG', 'TH', 'TJ', 'TL', 'TN', 'TO', 'TR', 'TT', 'TV', 'TW', 'TZ', 'UA', 'UG', 'US', 'UY', 'UZ', 'VC', 'VE', 'VN', 'VU', 'WS', 'XK', 'ZA', 'ZM', 'ZW'], 'external_urls': {'spotify': 'https://open.spotify.com/album/4KvTJJPmcAd1XJaO3UrARG'}, 'href': 'https://api.spotify.com/v1/albums/4KvTJJPmcAd1XJaO3UrARG', 'id': '4KvTJJPmcAd1XJaO3UrARG', 'images': [{'height': 640, 'url': 'https://i.scdn.co/image/ab67616d0000b273f67a8d19b2c7130f0437887b', 'width': 640}, {'height': 300, 'url': 'https://i.scdn.co/image/ab67616d00001e02f67a8d19b2c7130f0437887b', 'width': 300}, {'height': 64, 'url': 'https://i.scdn.co/image/ab67616d00004851f67a8d19b2c7130f0437887b', 'width': 64}], 'name': 'GTG', 'release_date': '2018-08-10', 'release_date_precision': 'day', 'total_tracks': 1, 'type': 'album', 'uri': 'spotify:album:4KvTJJPmcAd1XJaO3UrARG'}, 'artists': [{'external_urls': {'spotify': 'https://open.spotify.com/artist/0dlDsD7y6ccmDm8tuWCU6F'}, 'href': 'https://api.spotify.com/v1/artists/0dlDsD7y6ccmDm8tuWCU6F', 'id': '0dlDsD7y6ccmDm8tuWCU6F', 'name': 'Freddie Dredd', 'type': 'artist', 'uri': 'spotify:artist:0dlDsD7y6ccmDm8tuWCU6F'}], 'available_markets': ['AD', 'AE', 'AG', 'AL', 'AM', 'AO', 'AR', 'AT', 'AU', 'AZ', 'BA', 'BB', 'BD', 'BE', 'BF', 'BG', 'BH', 'BI', 'BJ', 'BN', 'BO', 'BR', 'BS', 'BT', 'BW', 'BY', 'BZ', 'CA', 'CD', 'CG', 'CH', 'CI', 'CL', 'CM', 'CO', 'CR', 'CV', 'CW', 'CY', 'CZ', 'DE', 'DJ', 'DK', 'DM', 'DO', 'DZ', 'EC', 'EE', 'EG', 'ES', 'FI', 'FJ', 'FM', 'FR', 'GA', 'GB', 'GD', 'GE', 'GH', 'GM', 'GN', 'GQ', 'GR', 'GT', 'GW', 'GY', 'HK', 'HN', 'HR', 'HT', 'HU', 'ID', 'IE', 'IL', 'IN', 'IQ', 'IS', 'IT', 'JM', 'JO', 'JP', 'KE', 'KG', 'KH', 'KI', 'KM', 'KN', 'KR', 'KW', 'KZ', 'LA', 'LB', 'LC', 'LI', 'LK', 'LR', 'LS', 'LT', 'LU', 'LV', 'LY', 'MA', 'MC', 'MD', 'ME', 'MG', 'MH', 'MK', 'ML', 'MN', 'MO', 'MR', 'MT', 'MU', 'MV', 'MW', 'MX', 'MY', 'MZ', 'NA', 'NE', 'NG', 'NI', 'NL', 'NO', 'NP', 'NR', 'NZ', 'OM', 'PA', 'PE', 'PG', 'PH', 'PK', 'PL', 'PS', 'PT', 'PW', 'PY', 'QA', 'RO', 'RS', 'RU', 'RW', 'SA', 'SB', 'SC', 'SE', 'SG', 'SI', 'SK', 'SL', 'SM', 'SN', 'SR', 'ST', 'SV', 'SZ', 'TD', 'TG', 'TH', 'TJ', 'TL', 'TN', 'TO', 'TR', 'TT', 'TV', 'TW', 'TZ', 'UA', 'UG', 'US', 'UY', 'UZ', 'VC', 'VE', 'VN', 'VU', 'WS', 'XK', 'ZA', 'ZM', 'ZW'], 'disc_number': 1, 'duration_ms': 93893, 'episode': False, 'explicit': True, 'external_ids': {'isrc': 'QZDA81821565'}, 'external_urls': {'spotify': 'https://open.spotify.com/track/46M2hXnaQpueG7vSvgVtVH'}, 'href': 'https://api.spotify.com/v1/tracks/46M2hXnaQpueG7vSvgVtVH', 'id': '46M2hXnaQpueG7vSvgVtVH', 'is_local': False, 'name': 'GTG', 'popularity': 75, 'preview_url': 'https://p.scdn.co/mp3-preview/f2725c8b02350228acc7d65b7979d053681a342c?cid=bb0cd0df6ac84fd8b5b541e017218b95', 'track': True, 'track_number': 1, 'type': 'track', 'uri': 'spotify:track:46M2hXnaQpueG7vSvgVtVH'}, 'video_thumbnail': {'url': None}}, {'added_at': '2022-01-13T18:12:38Z', 'added_by': {'external_urls': {'spotify': 'https://open.spotify.com/user/12167982535'}, 'href': 'https://api.spotify.com/v1/users/12167982535', 'id': '12167982535', 'type': 'user', 'uri': 'spotify:user:12167982535'}, 'is_local': False, 'primary_color': None, 'track': {'album': {'album_type': 'album', 'artists': [{'external_urls': {'spotify': 'https://open.spotify.com/artist/3ipn9JLAPI5GUEo4y4jcoi'}, 'href': 'https://api.spotify.com/v1/artists/3ipn9JLAPI5GUEo4y4jcoi', 'id': '3ipn9JLAPI5GUEo4y4jcoi', 'name': 'Ludacris', 'type': 'artist', 'uri': 'spotify:artist:3ipn9JLAPI5GUEo4y4jcoi'}], 'available_markets': ['AD', 'AG', 'AL', 'AM', 'AO', 'AR', 'AT', 'AU', 'AZ', 'BA', 'BB', 'BD', 'BE', 'BF', 'BG', 'BI', 'BJ', 'BN', 'BO', 'BR', 'BS', 'BT', 'BW', 'BY', 'BZ', 'CA', 'CD', 'CG', 'CH', 'CI', 'CL', 'CM', 'CO', 'CR', 'CV', 'CY', 'CZ', 'DE', 'DJ', 'DK', 'DM', 'DO', 'EC', 'EE', 'ES', 'FI', 'FJ', 'FM', 'FR', 'GA', 'GB', 'GD', 'GH', 'GM', 'GN', 'GQ', 'GR', 'GT', 'GW', 'GY', 'HK', 'HN', 'HR', 'HT', 'HU', 'ID', 'IE', 'IL', 'IN', 'IS', 'IT', 'JM', 'JP', 'KE', 'KG', 'KH', 'KI', 'KM', 'KN', 'KR', 'KZ', 'LA', 'LC', 'LI', 'LK', 'LR', 'LS', 'LT', 'LU', 'LV', 'MC', 'MD', 'ME', 'MG', 'MH', 'MK', 'ML', 'MN', 'MO', 'MR', 'MT', 'MU', 'MV', 'MW', 'MX', 'MY', 'MZ', 'NA', 'NE', 'NG', 'NI', 'NL', 'NO', 'NP', 'NR', 'NZ', 'PA', 'PE', 'PG', 'PH', 'PK', 'PL', 'PS', 'PT', 'PW', 'PY', 'RO', 'RS', 'RU', 'RW', 'SB', 'SC', 'SE', 'SG', 'SI', 'SK', 'SL', 'SN', 'SR', 'ST', 'SV', 'SZ', 'TD', 'TG', 'TH', 'TJ', 'TL', 'TO', 'TR', 'TT', 'TV', 'TW', 'TZ', 'UA', 'UG', 'US', 'UY', 'UZ', 'VC', 'VE', 'VN', 'WS', 'XK', 'ZA', 'ZM', 'ZW'], 'external_urls': {'spotify': 'https://open.spotify.com/album/00kSgH9g6nYBQhjnRQFBew'}, 'href': 'https://api.spotify.com/v1/albums/00kSgH9g6nYBQhjnRQFBew', 'id': '00kSgH9g6nYBQhjnRQFBew', 'images': [{'height': 640, 'url': 'https://i.scdn.co/image/ab67616d0000b2739bfafd29c34d738803a6a033', 'width': 640}, {'height': 300, 'url': 'https://i.scdn.co/image/ab67616d00001e029bfafd29c34d738803a6a033', 'width': 300}, {'height': 64, 'url': 'https://i.scdn.co/image/ab67616d000048519bfafd29c34d738803a6a033', 'width': 64}], 'name': 'Battle Of The Sexes (Deluxe)', 'release_date': '2010-01-01', 'release_date_precision': 'day', 'total_tracks': 17, 'type': 'album', 'uri': 'spotify:album:00kSgH9g6nYBQhjnRQFBew'}, 'artists': [{'external_urls': {'spotify': 'https://open.spotify.com/artist/3ipn9JLAPI5GUEo4y4jcoi'}, 'href': 'https://api.spotify.com/v1/artists/3ipn9JLAPI5GUEo4y4jcoi', 'id': '3ipn9JLAPI5GUEo4y4jcoi', 'name': 'Ludacris', 'type': 'artist', 'uri': 'spotify:artist:3ipn9JLAPI5GUEo4y4jcoi'}], 'available_markets': ['AD', 'AG', 'AL', 'AM', 'AO', 'AR', 'AT', 'AU', 'AZ', 'BA', 'BB', 'BD', 'BE', 'BF', 'BG', 'BI', 'BJ', 'BN', 'BO', 'BR', 'BS', 'BT', 'BW', 'BY', 'BZ', 'CA', 'CD', 'CG', 'CH', 'CI', 'CL', 'CM', 'CO', 'CR', 'CV', 'CY', 'CZ', 'DE', 'DJ', 'DK', 'DM', 'DO', 'EC', 'EE', 'ES', 'FI', 'FJ', 'FM', 'FR', 'GA', 'GB', 'GD', 'GH', 'GM', 'GN', 'GQ', 'GR', 'GT', 'GW', 'GY', 'HK', 'HN', 'HR', 'HT', 'HU', 'ID', 'IE', 'IL', 'IN', 'IS', 'IT', 'JM', 'JP', 'KE', 'KG', 'KH', 'KI', 'KM', 'KN', 'KR', 'KZ', 'LA', 'LC', 'LI', 'LK', 'LR', 'LS', 'LT', 'LU', 'LV', 'MC', 'MD', 'ME', 'MG', 'MH', 'MK', 'ML', 'MN', 'MO', 'MR', 'MT', 'MU', 'MV', 'MW', 'MX', 'MY', 'MZ', 'NA', 'NE', 'NG', 'NI', 'NL', 'NO', 'NP', 'NR', 'NZ', 'PA', 'PE', 'PG', 'PH', 'PK', 'PL', 'PS', 'PT', 'PW', 'PY', 'RO', 'RS', 'RU', 'RW', 'SB', 'SC', 'SE', 'SG', 'SI', 'SK', 'SL', 'SN', 'SR', 'ST', 'SV', 'SZ', 'TD', 'TG', 'TH', 'TJ', 'TL', 'TO', 'TR', 'TT', 'TV', 'TW', 'TZ', 'UA', 'UG', 'US', 'UY', 'UZ', 'VC', 'VE', 'VN', 'WS', 'XK', 'ZA', 'ZM', 'ZW'], 'disc_number': 1, 'duration_ms': 201586, 'episode': False, 'explicit': True, 'external_ids': {'isrc': 'USUM70913041'}, 'external_urls': {'spotify': 'https://open.spotify.com/track/1WtTLtofvcjQM3sXSMkDdX'}, 'href': 'https://api.spotify.com/v1/tracks/1WtTLtofvcjQM3sXSMkDdX', 'id': '1WtTLtofvcjQM3sXSMkDdX', 'is_local': False, 'name': 'How Low', 'popularity': 65, 'preview_url': None, 'track': True, 'track_number': 2, 'type': 'track', 'uri': 'spotify:track:1WtTLtofvcjQM3sXSMkDdX'}, 'video_thumbnail': {'url': None}}, {'added_at': '2022-01-13T18:12:38Z', 'added_by': {'external_urls': {'spotify': 'https://open.spotify.com/user/12167982535'}, 'href': 'https://api.spotify.com/v1/users/12167982535', 'id': '12167982535', 'type': 'user', 'uri': 'spotify:user:12167982535'}, 'is_local': False, 'primary_color': None, 'track': {'album': {'album_type': 'album', 'artists': [{'external_urls': {'spotify': 'https://open.spotify.com/artist/0J7U24vlOOIeMpuaO6Q85A'}, 'href': 'https://api.spotify.com/v1/artists/0J7U24vlOOIeMpuaO6Q85A', 'id': '0J7U24vlOOIeMpuaO6Q85A', 'name': 'LP', 'type': 'artist', 'uri': 'spotify:artist:0J7U24vlOOIeMpuaO6Q85A'}], 'available_markets': ['AD', 'AL', 'AT', 'BA', 'BE', 'CA', 'CH', 'DE', 'DK', 'EE', 'ES', 'FI', 'FR', 'HR', 'IS', 'LI', 'LT', 'LU', 'LV', 'MC', 'MK', 'MT', 'NL', 'NO', 'PT', 'SE', 'SI'], 'external_urls': {'spotify': 'https://open.spotify.com/album/68buUXBzuIPvarXFWLvAzO'}, 'href': 'https://api.spotify.com/v1/albums/68buUXBzuIPvarXFWLvAzO', 'id': '68buUXBzuIPvarXFWLvAzO', 'images': [{'height': 640, 'url': 'https://i.scdn.co/image/ab67616d0000b2730ea915002cd61381f6bc36a1', 'width': 640}, {'height': 300, 'url': 'https://i.scdn.co/image/ab67616d00001e020ea915002cd61381f6bc36a1', 'width': 300}, {'height': 64, 'url': 'https://i.scdn.co/image/ab67616d000048510ea915002cd61381f6bc36a1', 'width': 64}], 'name': 'Lost on You (Deluxe Edition)', 'release_date': '2017-05-05', 'release_date_precision': 'day', 'total_tracks': 16, 'type': 'album', 'uri': 'spotify:album:68buUXBzuIPvarXFWLvAzO'}, 'artists': [{'external_urls': {'spotify': 'https://open.spotify.com/artist/0J7U24vlOOIeMpuaO6Q85A'}, 'href': 'https://api.spotify.com/v1/artists/0J7U24vlOOIeMpuaO6Q85A', 'id': '0J7U24vlOOIeMpuaO6Q85A', 'name': 'LP', 'type': 'artist', 'uri': 'spotify:artist:0J7U24vlOOIeMpuaO6Q85A'}], 'available_markets': ['AD', 'AL', 'AT', 'BA', 'BE', 'CA', 'CH', 'DE', 'DK', 'EE', 'ES', 'FI', 'FR', 'HR', 'IS', 'LI', 'LT', 'LU', 'LV', 'MC', 'MK', 'MT', 'NL', 'NO', 'PT', 'SE', 'SI'], 'disc_number': 1, 'duration_ms': 237500, 'episode': False, 'explicit': False, 'external_ids': {'isrc': 'QMRSZ1700981'}, 'external_urls': {'spotify': 'https://open.spotify.com/track/2DYGrX2I5xqTUMY71heari'}, 'href': 'https://api.spotify.com/v1/tracks/2DYGrX2I5xqTUMY71heari', 'id': '2DYGrX2I5xqTUMY71heari', 'is_local': False, 'name': \"When We're High\", 'popularity': 52, 'preview_url': 'https://p.scdn.co/mp3-preview/08ad4b2496ce584d923846614c37ec5a008fdc6c?cid=bb0cd0df6ac84fd8b5b541e017218b95', 'track': True, 'track_number': 4, 'type': 'track', 'uri': 'spotify:track:2DYGrX2I5xqTUMY71heari'}, 'video_thumbnail': {'url': None}}, {'added_at': '2022-01-17T18:09:58Z', 'added_by': {'external_urls': {'spotify': 'https://open.spotify.com/user/12167982535'}, 'href': 'https://api.spotify.com/v1/users/12167982535', 'id': '12167982535', 'type': 'user', 'uri': 'spotify:user:12167982535'}, 'is_local': False, 'primary_color': None, 'track': {'album': {'album_type': 'album', 'artists': [{'external_urls': {'spotify': 'https://open.spotify.com/artist/6FBDaR13swtiWwGhX1WQsP'}, 'href': 'https://api.spotify.com/v1/artists/6FBDaR13swtiWwGhX1WQsP', 'id': '6FBDaR13swtiWwGhX1WQsP', 'name': 'blink-182', 'type': 'artist', 'uri': 'spotify:artist:6FBDaR13swtiWwGhX1WQsP'}], 'available_markets': ['AD', 'AE', 'AG', 'AL', 'AM', 'AO', 'AR', 'AT', 'AU', 'AZ', 'BA', 'BB', 'BD', 'BE', 'BF', 'BG', 'BH', 'BI', 'BJ', 'BN', 'BO', 'BR', 'BS', 'BT', 'BW', 'BY', 'BZ', 'CA', 'CD', 'CG', 'CH', 'CI', 'CL', 'CM', 'CO', 'CR', 'CV', 'CW', 'CY', 'CZ', 'DE', 'DJ', 'DK', 'DM', 'DO', 'DZ', 'EC', 'EE', 'EG', 'ES', 'FI', 'FJ', 'FM', 'FR', 'GA', 'GB', 'GD', 'GE', 'GH', 'GM', 'GN', 'GQ', 'GR', 'GT', 'GW', 'GY', 'HK', 'HN', 'HR', 'HT', 'HU', 'ID', 'IE', 'IL', 'IN', 'IQ', 'IS', 'IT', 'JM', 'JO', 'JP', 'KE', 'KG', 'KH', 'KI', 'KM', 'KN', 'KR', 'KW', 'KZ', 'LA', 'LB', 'LC', 'LI', 'LK', 'LR', 'LS', 'LT', 'LU', 'LV', 'LY', 'MA', 'MC', 'MD', 'ME', 'MG', 'MH', 'MK', 'ML', 'MN', 'MO', 'MR', 'MT', 'MU', 'MV', 'MW', 'MX', 'MY', 'MZ', 'NA', 'NE', 'NG', 'NI', 'NL', 'NO', 'NP', 'NR', 'NZ', 'OM', 'PA', 'PE', 'PG', 'PH', 'PK', 'PL', 'PS', 'PT', 'PW', 'PY', 'QA', 'RO', 'RS', 'RU', 'RW', 'SA', 'SB', 'SC', 'SE', 'SG', 'SI', 'SK', 'SL', 'SM', 'SN', 'SR', 'ST', 'SV', 'SZ', 'TD', 'TG', 'TH', 'TJ', 'TL', 'TN', 'TO', 'TR', 'TT', 'TV', 'TW', 'TZ', 'UA', 'UG', 'US', 'UY', 'UZ', 'VC', 'VE', 'VN', 'VU', 'WS', 'XK', 'ZA', 'ZM', 'ZW'], 'external_urls': {'spotify': 'https://open.spotify.com/album/652N05EcNH1a4bIlUixQE2'}, 'href': 'https://api.spotify.com/v1/albums/652N05EcNH1a4bIlUixQE2', 'id': '652N05EcNH1a4bIlUixQE2', 'images': [{'height': 640, 'url': 'https://i.scdn.co/image/ab67616d0000b2736da502e35a7a3e48de2b0f74', 'width': 640}, {'height': 300, 'url': 'https://i.scdn.co/image/ab67616d00001e026da502e35a7a3e48de2b0f74', 'width': 300}, {'height': 64, 'url': 'https://i.scdn.co/image/ab67616d000048516da502e35a7a3e48de2b0f74', 'width': 64}], 'name': 'Enema Of The State', 'release_date': '1999-06-01', 'release_date_precision': 'day', 'total_tracks': 12, 'type': 'album', 'uri': 'spotify:album:652N05EcNH1a4bIlUixQE2'}, 'artists': [{'external_urls': {'spotify': 'https://open.spotify.com/artist/6FBDaR13swtiWwGhX1WQsP'}, 'href': 'https://api.spotify.com/v1/artists/6FBDaR13swtiWwGhX1WQsP', 'id': '6FBDaR13swtiWwGhX1WQsP', 'name': 'blink-182', 'type': 'artist', 'uri': 'spotify:artist:6FBDaR13swtiWwGhX1WQsP'}], 'available_markets': ['AD', 'AE', 'AG', 'AL', 'AM', 'AO', 'AR', 'AT', 'AU', 'AZ', 'BA', 'BB', 'BD', 'BE', 'BF', 'BG', 'BH', 'BI', 'BJ', 'BN', 'BO', 'BR', 'BS', 'BT', 'BW', 'BY', 'BZ', 'CA', 'CD', 'CG', 'CH', 'CI', 'CL', 'CM', 'CO', 'CR', 'CV', 'CW', 'CY', 'CZ', 'DE', 'DJ', 'DK', 'DM', 'DO', 'DZ', 'EC', 'EE', 'EG', 'ES', 'FI', 'FJ', 'FM', 'FR', 'GA', 'GB', 'GD', 'GE', 'GH', 'GM', 'GN', 'GQ', 'GR', 'GT', 'GW', 'GY', 'HK', 'HN', 'HR', 'HT', 'HU', 'ID', 'IE', 'IL', 'IN', 'IQ', 'IS', 'IT', 'JM', 'JO', 'JP', 'KE', 'KG', 'KH', 'KI', 'KM', 'KN', 'KR', 'KW', 'KZ', 'LA', 'LB', 'LC', 'LI', 'LK', 'LR', 'LS', 'LT', 'LU', 'LV', 'LY', 'MA', 'MC', 'MD', 'ME', 'MG', 'MH', 'MK', 'ML', 'MN', 'MO', 'MR', 'MT', 'MU', 'MV', 'MW', 'MX', 'MY', 'MZ', 'NA', 'NE', 'NG', 'NI', 'NL', 'NO', 'NP', 'NR', 'NZ', 'OM', 'PA', 'PE', 'PG', 'PH', 'PK', 'PL', 'PS', 'PT', 'PW', 'PY', 'QA', 'RO', 'RS', 'RU', 'RW', 'SA', 'SB', 'SC', 'SE', 'SG', 'SI', 'SK', 'SL', 'SM', 'SN', 'SR', 'ST', 'SV', 'SZ', 'TD', 'TG', 'TH', 'TJ', 'TL', 'TN', 'TO', 'TR', 'TT', 'TV', 'TW', 'TZ', 'UA', 'UG', 'US', 'UY', 'UZ', 'VC', 'VE', 'VN', 'VU', 'WS', 'XK', 'ZA', 'ZM', 'ZW'], 'disc_number': 1, 'duration_ms': 249626, 'episode': False, 'explicit': False, 'external_ids': {'isrc': 'USMC19959122'}, 'external_urls': {'spotify': 'https://open.spotify.com/track/6xpDh0dXrkVp0Po1qrHUd8'}, 'href': 'https://api.spotify.com/v1/tracks/6xpDh0dXrkVp0Po1qrHUd8', 'id': '6xpDh0dXrkVp0Po1qrHUd8', 'is_local': False, 'name': \"Adam's Song\", 'popularity': 72, 'preview_url': None, 'track': True, 'track_number': 7, 'type': 'track', 'uri': 'spotify:track:6xpDh0dXrkVp0Po1qrHUd8'}, 'video_thumbnail': {'url': None}}, {'added_at': '2022-01-17T18:09:58Z', 'added_by': {'external_urls': {'spotify': 'https://open.spotify.com/user/12167982535'}, 'href': 'https://api.spotify.com/v1/users/12167982535', 'id': '12167982535', 'type': 'user', 'uri': 'spotify:user:12167982535'}, 'is_local': False, 'primary_color': None, 'track': {'album': {'album_type': 'album', 'artists': [{'external_urls': {'spotify': 'https://open.spotify.com/artist/6FBDaR13swtiWwGhX1WQsP'}, 'href': 'https://api.spotify.com/v1/artists/6FBDaR13swtiWwGhX1WQsP', 'id': '6FBDaR13swtiWwGhX1WQsP', 'name': 'blink-182', 'type': 'artist', 'uri': 'spotify:artist:6FBDaR13swtiWwGhX1WQsP'}], 'available_markets': [], 'external_urls': {'spotify': 'https://open.spotify.com/album/3ReTZiBrVtZaufbC1tCHfM'}, 'href': 'https://api.spotify.com/v1/albums/3ReTZiBrVtZaufbC1tCHfM', 'id': '3ReTZiBrVtZaufbC1tCHfM', 'images': [{'height': 640, 'url': 'https://i.scdn.co/image/ab67616d0000b27325f35a3c475262d16d851727', 'width': 640}, {'height': 300, 'url': 'https://i.scdn.co/image/ab67616d00001e0225f35a3c475262d16d851727', 'width': 300}, {'height': 64, 'url': 'https://i.scdn.co/image/ab67616d0000485125f35a3c475262d16d851727', 'width': 64}], 'name': 'Enema Of The State', 'release_date': '1999-01-01', 'release_date_precision': 'day', 'total_tracks': 12, 'type': 'album', 'uri': 'spotify:album:3ReTZiBrVtZaufbC1tCHfM'}, 'artists': [{'external_urls': {'spotify': 'https://open.spotify.com/artist/6FBDaR13swtiWwGhX1WQsP'}, 'href': 'https://api.spotify.com/v1/artists/6FBDaR13swtiWwGhX1WQsP', 'id': '6FBDaR13swtiWwGhX1WQsP', 'name': 'blink-182', 'type': 'artist', 'uri': 'spotify:artist:6FBDaR13swtiWwGhX1WQsP'}], 'available_markets': [], 'disc_number': 1, 'duration_ms': 249560, 'episode': False, 'explicit': False, 'external_ids': {'isrc': 'USMC19959122'}, 'external_urls': {'spotify': 'https://open.spotify.com/track/4RNeJ1qy9feTpgCI8xxQM1'}, 'href': 'https://api.spotify.com/v1/tracks/4RNeJ1qy9feTpgCI8xxQM1', 'id': '4RNeJ1qy9feTpgCI8xxQM1', 'is_local': False, 'name': \"Adam's Song\", 'popularity': 0, 'preview_url': None, 'track': True, 'track_number': 7, 'type': 'track', 'uri': 'spotify:track:4RNeJ1qy9feTpgCI8xxQM1'}, 'video_thumbnail': {'url': None}}, {'added_at': '2022-01-17T02:44:16Z', 'added_by': {'external_urls': {'spotify': 'https://open.spotify.com/user/12167982535'}, 'href': 'https://api.spotify.com/v1/users/12167982535', 'id': '12167982535', 'type': 'user', 'uri': 'spotify:user:12167982535'}, 'is_local': False, 'primary_color': None, 'track': {'album': {'album_type': 'single', 'artists': [{'external_urls': {'spotify': 'https://open.spotify.com/artist/66CXWjxzNUsdJxJ2JdwvnR'}, 'href': 'https://api.spotify.com/v1/artists/66CXWjxzNUsdJxJ2JdwvnR', 'id': '66CXWjxzNUsdJxJ2JdwvnR', 'name': 'Ariana Grande', 'type': 'artist', 'uri': 'spotify:artist:66CXWjxzNUsdJxJ2JdwvnR'}], 'available_markets': [], 'external_urls': {'spotify': 'https://open.spotify.com/album/03D36t8ODrA8ATvoTStU9P'}, 'href': 'https://api.spotify.com/v1/albums/03D36t8ODrA8ATvoTStU9P', 'id': '03D36t8ODrA8ATvoTStU9P', 'images': [{'height': 640, 'url': 'https://i.scdn.co/image/ab67616d0000b2739b41e8830f63dc7aad79ec59', 'width': 640}, {'height': 300, 'url': 'https://i.scdn.co/image/ab67616d00001e029b41e8830f63dc7aad79ec59', 'width': 300}, {'height': 64, 'url': 'https://i.scdn.co/image/ab67616d000048519b41e8830f63dc7aad79ec59', 'width': 64}], 'name': '7 rings', 'release_date': '2019-01-18', 'release_date_precision': 'day', 'total_tracks': 1, 'type': 'album', 'uri': 'spotify:album:03D36t8ODrA8ATvoTStU9P'}, 'artists': [{'external_urls': {'spotify': 'https://open.spotify.com/artist/66CXWjxzNUsdJxJ2JdwvnR'}, 'href': 'https://api.spotify.com/v1/artists/66CXWjxzNUsdJxJ2JdwvnR', 'id': '66CXWjxzNUsdJxJ2JdwvnR', 'name': 'Ariana Grande', 'type': 'artist', 'uri': 'spotify:artist:66CXWjxzNUsdJxJ2JdwvnR'}], 'available_markets': [], 'disc_number': 1, 'duration_ms': 178640, 'episode': False, 'explicit': True, 'external_ids': {'isrc': 'USUM71900110'}, 'external_urls': {'spotify': 'https://open.spotify.com/track/14msK75pk3pA33pzPVNtBF'}, 'href': 'https://api.spotify.com/v1/tracks/14msK75pk3pA33pzPVNtBF', 'id': '14msK75pk3pA33pzPVNtBF', 'is_local': False, 'name': '7 rings', 'popularity': 2, 'preview_url': None, 'track': True, 'track_number': 1, 'type': 'track', 'uri': 'spotify:track:14msK75pk3pA33pzPVNtBF'}, 'video_thumbnail': {'url': None}}, {'added_at': '2022-01-13T18:12:38Z', 'added_by': {'external_urls': {'spotify': 'https://open.spotify.com/user/12167982535'}, 'href': 'https://api.spotify.com/v1/users/12167982535', 'id': '12167982535', 'type': 'user', 'uri': 'spotify:user:12167982535'}, 'is_local': False, 'primary_color': None, 'track': {'album': {'album_type': 'single', 'artists': [{'external_urls': {'spotify': 'https://open.spotify.com/artist/0dlDsD7y6ccmDm8tuWCU6F'}, 'href': 'https://api.spotify.com/v1/artists/0dlDsD7y6ccmDm8tuWCU6F', 'id': '0dlDsD7y6ccmDm8tuWCU6F', 'name': 'Freddie Dredd', 'type': 'artist', 'uri': 'spotify:artist:0dlDsD7y6ccmDm8tuWCU6F'}], 'available_markets': ['AD', 'AE', 'AG', 'AL', 'AM', 'AO', 'AR', 'AT', 'AU', 'AZ', 'BA', 'BB', 'BD', 'BE', 'BF', 'BG', 'BH', 'BI', 'BJ', 'BN', 'BO', 'BR', 'BS', 'BT', 'BW', 'BY', 'BZ', 'CA', 'CD', 'CG', 'CH', 'CI', 'CL', 'CM', 'CO', 'CR', 'CV', 'CW', 'CY', 'CZ', 'DE', 'DJ', 'DK', 'DM', 'DO', 'DZ', 'EC', 'EE', 'EG', 'ES', 'FI', 'FJ', 'FM', 'FR', 'GA', 'GB', 'GD', 'GE', 'GH', 'GM', 'GN', 'GQ', 'GR', 'GT', 'GW', 'GY', 'HK', 'HN', 'HR', 'HT', 'HU', 'ID', 'IE', 'IL', 'IN', 'IQ', 'IS', 'IT', 'JM', 'JO', 'JP', 'KE', 'KG', 'KH', 'KI', 'KM', 'KN', 'KR', 'KW', 'KZ', 'LA', 'LB', 'LC', 'LI', 'LK', 'LR', 'LS', 'LT', 'LU', 'LV', 'LY', 'MA', 'MC', 'MD', 'ME', 'MG', 'MH', 'MK', 'ML', 'MN', 'MO', 'MR', 'MT', 'MU', 'MV', 'MW', 'MX', 'MY', 'MZ', 'NA', 'NE', 'NG', 'NI', 'NL', 'NO', 'NP', 'NR', 'NZ', 'OM', 'PA', 'PE', 'PG', 'PH', 'PK', 'PL', 'PS', 'PT', 'PW', 'PY', 'QA', 'RO', 'RS', 'RU', 'RW', 'SA', 'SB', 'SC', 'SE', 'SG', 'SI', 'SK', 'SL', 'SM', 'SN', 'SR', 'ST', 'SV', 'SZ', 'TD', 'TG', 'TH', 'TJ', 'TL', 'TN', 'TO', 'TR', 'TT', 'TV', 'TW', 'TZ', 'UA', 'UG', 'US', 'UY', 'UZ', 'VC', 'VE', 'VN', 'VU', 'WS', 'XK', 'ZA', 'ZM', 'ZW'], 'external_urls': {'spotify': 'https://open.spotify.com/album/2SUBknzxng0iqBpKT9vzns'}, 'href': 'https://api.spotify.com/v1/albums/2SUBknzxng0iqBpKT9vzns', 'id': '2SUBknzxng0iqBpKT9vzns', 'images': [{'height': 640, 'url': 'https://i.scdn.co/image/ab67616d0000b27342ffc7773e7f4ea48e5606a8', 'width': 640}, {'height': 300, 'url': 'https://i.scdn.co/image/ab67616d00001e0242ffc7773e7f4ea48e5606a8', 'width': 300}, {'height': 64, 'url': 'https://i.scdn.co/image/ab67616d0000485142ffc7773e7f4ea48e5606a8', 'width': 64}], 'name': 'Cha Cha', 'release_date': '2019-03-22', 'release_date_precision': 'day', 'total_tracks': 1, 'type': 'album', 'uri': 'spotify:album:2SUBknzxng0iqBpKT9vzns'}, 'artists': [{'external_urls': {'spotify': 'https://open.spotify.com/artist/0dlDsD7y6ccmDm8tuWCU6F'}, 'href': 'https://api.spotify.com/v1/artists/0dlDsD7y6ccmDm8tuWCU6F', 'id': '0dlDsD7y6ccmDm8tuWCU6F', 'name': 'Freddie Dredd', 'type': 'artist', 'uri': 'spotify:artist:0dlDsD7y6ccmDm8tuWCU6F'}], 'available_markets': ['AD', 'AE', 'AG', 'AL', 'AM', 'AO', 'AR', 'AT', 'AU', 'AZ', 'BA', 'BB', 'BD', 'BE', 'BF', 'BG', 'BH', 'BI', 'BJ', 'BN', 'BO', 'BR', 'BS', 'BT', 'BW', 'BY', 'BZ', 'CA', 'CD', 'CG', 'CH', 'CI', 'CL', 'CM', 'CO', 'CR', 'CV', 'CW', 'CY', 'CZ', 'DE', 'DJ', 'DK', 'DM', 'DO', 'DZ', 'EC', 'EE', 'EG', 'ES', 'FI', 'FJ', 'FM', 'FR', 'GA', 'GB', 'GD', 'GE', 'GH', 'GM', 'GN', 'GQ', 'GR', 'GT', 'GW', 'GY', 'HK', 'HN', 'HR', 'HT', 'HU', 'ID', 'IE', 'IL', 'IN', 'IQ', 'IS', 'IT', 'JM', 'JO', 'JP', 'KE', 'KG', 'KH', 'KI', 'KM', 'KN', 'KR', 'KW', 'KZ', 'LA', 'LB', 'LC', 'LI', 'LK', 'LR', 'LS', 'LT', 'LU', 'LV', 'LY', 'MA', 'MC', 'MD', 'ME', 'MG', 'MH', 'MK', 'ML', 'MN', 'MO', 'MR', 'MT', 'MU', 'MV', 'MW', 'MX', 'MY', 'MZ', 'NA', 'NE', 'NG', 'NI', 'NL', 'NO', 'NP', 'NR', 'NZ', 'OM', 'PA', 'PE', 'PG', 'PH', 'PK', 'PL', 'PS', 'PT', 'PW', 'PY', 'QA', 'RO', 'RS', 'RU', 'RW', 'SA', 'SB', 'SC', 'SE', 'SG', 'SI', 'SK', 'SL', 'SM', 'SN', 'SR', 'ST', 'SV', 'SZ', 'TD', 'TG', 'TH', 'TJ', 'TL', 'TN', 'TO', 'TR', 'TT', 'TV', 'TW', 'TZ', 'UA', 'UG', 'US', 'UY', 'UZ', 'VC', 'VE', 'VN', 'VU', 'WS', 'XK', 'ZA', 'ZM', 'ZW'], 'disc_number': 1, 'duration_ms': 173937, 'episode': False, 'explicit': True, 'external_ids': {'isrc': 'QZDA41930017'}, 'external_urls': {'spotify': 'https://open.spotify.com/track/1vvBUZseJ7fwYPX1NedOLd'}, 'href': 'https://api.spotify.com/v1/tracks/1vvBUZseJ7fwYPX1NedOLd', 'id': '1vvBUZseJ7fwYPX1NedOLd', 'is_local': False, 'name': 'Cha Cha', 'popularity': 74, 'preview_url': 'https://p.scdn.co/mp3-preview/dd6db42fe44837906db41b32f202b0968d9cee53?cid=bb0cd0df6ac84fd8b5b541e017218b95', 'track': True, 'track_number': 1, 'type': 'track', 'uri': 'spotify:track:1vvBUZseJ7fwYPX1NedOLd'}, 'video_thumbnail': {'url': None}}, {'added_at': '2022-01-13T21:10:40Z', 'added_by': {'external_urls': {'spotify': 'https://open.spotify.com/user/12167982535'}, 'href': 'https://api.spotify.com/v1/users/12167982535', 'id': '12167982535', 'type': 'user', 'uri': 'spotify:user:12167982535'}, 'is_local': False, 'primary_color': None, 'track': {'album': {'album_type': 'single', 'artists': [{'external_urls': {'spotify': 'https://open.spotify.com/artist/4u1nYxjl132D6rcMeYQ6Zz'}, 'href': 'https://api.spotify.com/v1/artists/4u1nYxjl132D6rcMeYQ6Zz', 'id': '4u1nYxjl132D6rcMeYQ6Zz', 'name': 'Rival', 'type': 'artist', 'uri': 'spotify:artist:4u1nYxjl132D6rcMeYQ6Zz'}, {'external_urls': {'spotify': 'https://open.spotify.com/artist/7HMpxXbzJOXYZyRiV0hvZn'}, 'href': 'https://api.spotify.com/v1/artists/7HMpxXbzJOXYZyRiV0hvZn', 'id': '7HMpxXbzJOXYZyRiV0hvZn', 'name': 'Asketa & Natan Chaim', 'type': 'artist', 'uri': 'spotify:artist:7HMpxXbzJOXYZyRiV0hvZn'}], 'available_markets': ['AD', 'AE', 'AG', 'AL', 'AM', 'AO', 'AR', 'AT', 'AU', 'AZ', 'BA', 'BB', 'BD', 'BE', 'BF', 'BG', 'BH', 'BI', 'BJ', 'BN', 'BO', 'BR', 'BS', 'BT', 'BW', 'BY', 'BZ', 'CA', 'CD', 'CG', 'CH', 'CI', 'CL', 'CM', 'CO', 'CR', 'CV', 'CY', 'CZ', 'DE', 'DJ', 'DK', 'DM', 'DO', 'DZ', 'EC', 'EE', 'EG', 'ES', 'FI', 'FJ', 'FM', 'FR', 'GA', 'GB', 'GD', 'GE', 'GH', 'GM', 'GN', 'GQ', 'GR', 'GT', 'GW', 'GY', 'HK', 'HN', 'HR', 'HT', 'HU', 'ID', 'IE', 'IL', 'IN', 'IQ', 'IS', 'IT', 'JM', 'JO', 'JP', 'KE', 'KG', 'KH', 'KI', 'KM', 'KN', 'KR', 'KW', 'KZ', 'LA', 'LB', 'LC', 'LI', 'LK', 'LR', 'LS', 'LT', 'LU', 'LV', 'LY', 'MA', 'MC', 'MD', 'ME', 'MG', 'MH', 'MK', 'ML', 'MN', 'MO', 'MR', 'MT', 'MU', 'MV', 'MW', 'MX', 'MY', 'MZ', 'NA', 'NE', 'NG', 'NI', 'NL', 'NO', 'NP', 'NR', 'NZ', 'OM', 'PA', 'PE', 'PG', 'PH', 'PK', 'PL', 'PS', 'PT', 'PW', 'PY', 'QA', 'RO', 'RS', 'RU', 'RW', 'SA', 'SB', 'SC', 'SE', 'SG', 'SI', 'SK', 'SL', 'SM', 'SN', 'SR', 'ST', 'SV', 'SZ', 'TD', 'TG', 'TH', 'TJ', 'TL', 'TN', 'TO', 'TR', 'TT', 'TV', 'TW', 'TZ', 'UA', 'UG', 'US', 'UY', 'UZ', 'VC', 'VE', 'VN', 'VU', 'WS', 'XK', 'ZA', 'ZM', 'ZW'], 'external_urls': {'spotify': 'https://open.spotify.com/album/4MJSwyVBS3qwMhaMF0icOb'}, 'href': 'https://api.spotify.com/v1/albums/4MJSwyVBS3qwMhaMF0icOb', 'id': '4MJSwyVBS3qwMhaMF0icOb', 'images': [{'height': 640, 'url': 'https://i.scdn.co/image/ab67616d0000b27363a0cbcb3d371a86b1db8eaf', 'width': 640}, {'height': 300, 'url': 'https://i.scdn.co/image/ab67616d00001e0263a0cbcb3d371a86b1db8eaf', 'width': 300}, {'height': 64, 'url': 'https://i.scdn.co/image/ab67616d0000485163a0cbcb3d371a86b1db8eaf', 'width': 64}], 'name': 'Superhero In My Sleep', 'release_date': '2021-09-24', 'release_date_precision': 'day', 'total_tracks': 1, 'type': 'album', 'uri': 'spotify:album:4MJSwyVBS3qwMhaMF0icOb'}, 'artists': [{'external_urls': {'spotify': 'https://open.spotify.com/artist/4u1nYxjl132D6rcMeYQ6Zz'}, 'href': 'https://api.spotify.com/v1/artists/4u1nYxjl132D6rcMeYQ6Zz', 'id': '4u1nYxjl132D6rcMeYQ6Zz', 'name': 'Rival', 'type': 'artist', 'uri': 'spotify:artist:4u1nYxjl132D6rcMeYQ6Zz'}, {'external_urls': {'spotify': 'https://open.spotify.com/artist/7HMpxXbzJOXYZyRiV0hvZn'}, 'href': 'https://api.spotify.com/v1/artists/7HMpxXbzJOXYZyRiV0hvZn', 'id': '7HMpxXbzJOXYZyRiV0hvZn', 'name': 'Asketa & Natan Chaim', 'type': 'artist', 'uri': 'spotify:artist:7HMpxXbzJOXYZyRiV0hvZn'}], 'available_markets': ['AD', 'AE', 'AG', 'AL', 'AM', 'AO', 'AR', 'AT', 'AU', 'AZ', 'BA', 'BB', 'BD', 'BE', 'BF', 'BG', 'BH', 'BI', 'BJ', 'BN', 'BO', 'BR', 'BS', 'BT', 'BW', 'BY', 'BZ', 'CA', 'CD', 'CG', 'CH', 'CI', 'CL', 'CM', 'CO', 'CR', 'CV', 'CY', 'CZ', 'DE', 'DJ', 'DK', 'DM', 'DO', 'DZ', 'EC', 'EE', 'EG', 'ES', 'FI', 'FJ', 'FM', 'FR', 'GA', 'GB', 'GD', 'GE', 'GH', 'GM', 'GN', 'GQ', 'GR', 'GT', 'GW', 'GY', 'HK', 'HN', 'HR', 'HT', 'HU', 'ID', 'IE', 'IL', 'IN', 'IQ', 'IS', 'IT', 'JM', 'JO', 'JP', 'KE', 'KG', 'KH', 'KI', 'KM', 'KN', 'KR', 'KW', 'KZ', 'LA', 'LB', 'LC', 'LI', 'LK', 'LR', 'LS', 'LT', 'LU', 'LV', 'LY', 'MA', 'MC', 'MD', 'ME', 'MG', 'MH', 'MK', 'ML', 'MN', 'MO', 'MR', 'MT', 'MU', 'MV', 'MW', 'MX', 'MY', 'MZ', 'NA', 'NE', 'NG', 'NI', 'NL', 'NO', 'NP', 'NR', 'NZ', 'OM', 'PA', 'PE', 'PG', 'PH', 'PK', 'PL', 'PS', 'PT', 'PW', 'PY', 'QA', 'RO', 'RS', 'RU', 'RW', 'SA', 'SB', 'SC', 'SE', 'SG', 'SI', 'SK', 'SL', 'SM', 'SN', 'SR', 'ST', 'SV', 'SZ', 'TD', 'TG', 'TH', 'TJ', 'TL', 'TN', 'TO', 'TR', 'TT', 'TV', 'TW', 'TZ', 'UA', 'UG', 'US', 'UY', 'UZ', 'VC', 'VE', 'VN', 'VU', 'WS', 'XK', 'ZA', 'ZM', 'ZW'], 'disc_number': 1, 'duration_ms': 186703, 'episode': False, 'explicit': False, 'external_ids': {'isrc': 'GB2LD2110251'}, 'external_urls': {'spotify': 'https://open.spotify.com/track/1BHhgOM82RNW9fjZS6cPVs'}, 'href': 'https://api.spotify.com/v1/tracks/1BHhgOM82RNW9fjZS6cPVs', 'id': '1BHhgOM82RNW9fjZS6cPVs', 'is_local': False, 'name': 'Superhero In My Sleep', 'popularity': 52, 'preview_url': 'https://p.scdn.co/mp3-preview/c38db965208018d62df300f714bc8dc2f2dbb24b?cid=bb0cd0df6ac84fd8b5b541e017218b95', 'track': True, 'track_number': 1, 'type': 'track', 'uri': 'spotify:track:1BHhgOM82RNW9fjZS6cPVs'}, 'video_thumbnail': {'url': None}}, {'added_at': '2022-01-13T18:12:38Z', 'added_by': {'external_urls': {'spotify': 'https://open.spotify.com/user/12167982535'}, 'href': 'https://api.spotify.com/v1/users/12167982535', 'id': '12167982535', 'type': 'user', 'uri': 'spotify:user:12167982535'}, 'is_local': False, 'primary_color': None, 'track': {'album': {'album_type': 'single', 'artists': [{'external_urls': {'spotify': 'https://open.spotify.com/artist/0dlDsD7y6ccmDm8tuWCU6F'}, 'href': 'https://api.spotify.com/v1/artists/0dlDsD7y6ccmDm8tuWCU6F', 'id': '0dlDsD7y6ccmDm8tuWCU6F', 'name': 'Freddie Dredd', 'type': 'artist', 'uri': 'spotify:artist:0dlDsD7y6ccmDm8tuWCU6F'}], 'available_markets': ['AD', 'AE', 'AG', 'AL', 'AM', 'AO', 'AR', 'AT', 'AU', 'AZ', 'BA', 'BB', 'BD', 'BE', 'BF', 'BG', 'BH', 'BI', 'BJ', 'BN', 'BO', 'BR', 'BS', 'BT', 'BW', 'BY', 'BZ', 'CA', 'CD', 'CG', 'CH', 'CI', 'CL', 'CM', 'CO', 'CR', 'CV', 'CW', 'CY', 'CZ', 'DE', 'DJ', 'DK', 'DM', 'DO', 'DZ', 'EC', 'EE', 'EG', 'ES', 'FI', 'FJ', 'FM', 'FR', 'GA', 'GB', 'GD', 'GE', 'GH', 'GM', 'GN', 'GQ', 'GR', 'GT', 'GW', 'GY', 'HK', 'HN', 'HR', 'HT', 'HU', 'ID', 'IE', 'IL', 'IN', 'IQ', 'IS', 'IT', 'JM', 'JO', 'JP', 'KE', 'KG', 'KH', 'KI', 'KM', 'KN', 'KR', 'KW', 'KZ', 'LA', 'LB', 'LC', 'LI', 'LK', 'LR', 'LS', 'LT', 'LU', 'LV', 'LY', 'MA', 'MC', 'MD', 'ME', 'MG', 'MH', 'MK', 'ML', 'MN', 'MO', 'MR', 'MT', 'MU', 'MV', 'MW', 'MX', 'MY', 'MZ', 'NA', 'NE', 'NG', 'NI', 'NL', 'NO', 'NP', 'NR', 'NZ', 'OM', 'PA', 'PE', 'PG', 'PH', 'PK', 'PL', 'PS', 'PT', 'PW', 'PY', 'QA', 'RO', 'RS', 'RU', 'RW', 'SA', 'SB', 'SC', 'SE', 'SG', 'SI', 'SK', 'SL', 'SM', 'SN', 'SR', 'ST', 'SV', 'SZ', 'TD', 'TG', 'TH', 'TJ', 'TL', 'TN', 'TO', 'TR', 'TT', 'TV', 'TW', 'TZ', 'UA', 'UG', 'US', 'UY', 'UZ', 'VC', 'VE', 'VN', 'VU', 'WS', 'XK', 'ZA', 'ZM', 'ZW'], 'external_urls': {'spotify': 'https://open.spotify.com/album/41kOXEHM7PivRjZj4WX2Dl'}, 'href': 'https://api.spotify.com/v1/albums/41kOXEHM7PivRjZj4WX2Dl', 'id': '41kOXEHM7PivRjZj4WX2Dl', 'images': [{'height': 640, 'url': 'https://i.scdn.co/image/ab67616d0000b273eac125ae834b76b7d15b3014', 'width': 640}, {'height': 300, 'url': 'https://i.scdn.co/image/ab67616d00001e02eac125ae834b76b7d15b3014', 'width': 300}, {'height': 64, 'url': 'https://i.scdn.co/image/ab67616d00004851eac125ae834b76b7d15b3014', 'width': 64}], 'name': 'All Alone', 'release_date': '2019-05-22', 'release_date_precision': 'day', 'total_tracks': 1, 'type': 'album', 'uri': 'spotify:album:41kOXEHM7PivRjZj4WX2Dl'}, 'artists': [{'external_urls': {'spotify': 'https://open.spotify.com/artist/0dlDsD7y6ccmDm8tuWCU6F'}, 'href': 'https://api.spotify.com/v1/artists/0dlDsD7y6ccmDm8tuWCU6F', 'id': '0dlDsD7y6ccmDm8tuWCU6F', 'name': 'Freddie Dredd', 'type': 'artist', 'uri': 'spotify:artist:0dlDsD7y6ccmDm8tuWCU6F'}], 'available_markets': ['AD', 'AE', 'AG', 'AL', 'AM', 'AO', 'AR', 'AT', 'AU', 'AZ', 'BA', 'BB', 'BD', 'BE', 'BF', 'BG', 'BH', 'BI', 'BJ', 'BN', 'BO', 'BR', 'BS', 'BT', 'BW', 'BY', 'BZ', 'CA', 'CD', 'CG', 'CH', 'CI', 'CL', 'CM', 'CO', 'CR', 'CV', 'CW', 'CY', 'CZ', 'DE', 'DJ', 'DK', 'DM', 'DO', 'DZ', 'EC', 'EE', 'EG', 'ES', 'FI', 'FJ', 'FM', 'FR', 'GA', 'GB', 'GD', 'GE', 'GH', 'GM', 'GN', 'GQ', 'GR', 'GT', 'GW', 'GY', 'HK', 'HN', 'HR', 'HT', 'HU', 'ID', 'IE', 'IL', 'IN', 'IQ', 'IS', 'IT', 'JM', 'JO', 'JP', 'KE', 'KG', 'KH', 'KI', 'KM', 'KN', 'KR', 'KW', 'KZ', 'LA', 'LB', 'LC', 'LI', 'LK', 'LR', 'LS', 'LT', 'LU', 'LV', 'LY', 'MA', 'MC', 'MD', 'ME', 'MG', 'MH', 'MK', 'ML', 'MN', 'MO', 'MR', 'MT', 'MU', 'MV', 'MW', 'MX', 'MY', 'MZ', 'NA', 'NE', 'NG', 'NI', 'NL', 'NO', 'NP', 'NR', 'NZ', 'OM', 'PA', 'PE', 'PG', 'PH', 'PK', 'PL', 'PS', 'PT', 'PW', 'PY', 'QA', 'RO', 'RS', 'RU', 'RW', 'SA', 'SB', 'SC', 'SE', 'SG', 'SI', 'SK', 'SL', 'SM', 'SN', 'SR', 'ST', 'SV', 'SZ', 'TD', 'TG', 'TH', 'TJ', 'TL', 'TN', 'TO', 'TR', 'TT', 'TV', 'TW', 'TZ', 'UA', 'UG', 'US', 'UY', 'UZ', 'VC', 'VE', 'VN', 'VU', 'WS', 'XK', 'ZA', 'ZM', 'ZW'], 'disc_number': 1, 'duration_ms': 174250, 'episode': False, 'explicit': False, 'external_ids': {'isrc': 'QZFYW1912395'}, 'external_urls': {'spotify': 'https://open.spotify.com/track/5V5BHmvpylV0nSc2Yu2Mu4'}, 'href': 'https://api.spotify.com/v1/tracks/5V5BHmvpylV0nSc2Yu2Mu4', 'id': '5V5BHmvpylV0nSc2Yu2Mu4', 'is_local': False, 'name': 'All Alone', 'popularity': 74, 'preview_url': 'https://p.scdn.co/mp3-preview/37a4fd87e799c6bf88047b0cf670f0b0400bec46?cid=bb0cd0df6ac84fd8b5b541e017218b95', 'track': True, 'track_number': 1, 'type': 'track', 'uri': 'spotify:track:5V5BHmvpylV0nSc2Yu2Mu4'}, 'video_thumbnail': {'url': None}}, {'added_at': '2022-01-17T02:44:16Z', 'added_by': {'external_urls': {'spotify': 'https://open.spotify.com/user/12167982535'}, 'href': 'https://api.spotify.com/v1/users/12167982535', 'id': '12167982535', 'type': 'user', 'uri': 'spotify:user:12167982535'}, 'is_local': False, 'primary_color': None, 'track': {'album': {'album_type': 'album', 'artists': [{'external_urls': {'spotify': 'https://open.spotify.com/artist/66CXWjxzNUsdJxJ2JdwvnR'}, 'href': 'https://api.spotify.com/v1/artists/66CXWjxzNUsdJxJ2JdwvnR', 'id': '66CXWjxzNUsdJxJ2JdwvnR', 'name': 'Ariana Grande', 'type': 'artist', 'uri': 'spotify:artist:66CXWjxzNUsdJxJ2JdwvnR'}], 'available_markets': ['AD', 'AE', 'AG', 'AL', 'AM', 'AO', 'AR', 'AT', 'AU', 'AZ', 'BA', 'BB', 'BD', 'BE', 'BG', 'BH', 'BI', 'BJ', 'BO', 'BR', 'BS', 'BT', 'BW', 'BZ', 'CA', 'CD', 'CG', 'CH', 'CI', 'CL', 'CM', 'CO', 'CR', 'CV', 'CW', 'CY', 'CZ', 'DE', 'DJ', 'DK', 'DM', 'DO', 'DZ', 'EC', 'EE', 'EG', 'ES', 'FI', 'FJ', 'FM', 'FR', 'GA', 'GB', 'GD', 'GE', 'GH', 'GM', 'GN', 'GQ', 'GR', 'GT', 'GW', 'GY', 'HK', 'HN', 'HR', 'HT', 'HU', 'ID', 'IE', 'IL', 'IN', 'IQ', 'IS', 'IT', 'JM', 'JO', 'JP', 'KE', 'KG', 'KH', 'KI', 'KM', 'KN', 'KR', 'KW', 'KZ', 'LA', 'LB', 'LC', 'LI', 'LK', 'LR', 'LS', 'LT', 'LU', 'LV', 'LY', 'MA', 'MC', 'MD', 'ME', 'MG', 'MH', 'MK', 'ML', 'MN', 'MO', 'MR', 'MT', 'MU', 'MV', 'MW', 'MX', 'MY', 'MZ', 'NA', 'NE', 'NG', 'NI', 'NL', 'NO', 'NR', 'NZ', 'OM', 'PA', 'PE', 'PG', 'PH', 'PK', 'PL', 'PS', 'PT', 'PW', 'PY', 'QA', 'RO', 'RS', 'RU', 'RW', 'SA', 'SB', 'SC', 'SE', 'SG', 'SI', 'SK', 'SL', 'SM', 'SN', 'SR', 'ST', 'SV', 'SZ', 'TD', 'TG', 'TH', 'TJ', 'TL', 'TN', 'TO', 'TR', 'TT', 'TV', 'TW', 'TZ', 'UA', 'UG', 'US', 'UY', 'VC', 'VE', 'VN', 'VU', 'WS', 'XK', 'ZA', 'ZM', 'ZW'], 'external_urls': {'spotify': 'https://open.spotify.com/album/2fYhqwDWXjbpjaIJPEfKFw'}, 'href': 'https://api.spotify.com/v1/albums/2fYhqwDWXjbpjaIJPEfKFw', 'id': '2fYhqwDWXjbpjaIJPEfKFw', 'images': [{'height': 640, 'url': 'https://i.scdn.co/image/ab67616d0000b27356ac7b86e090f307e218e9c8', 'width': 640}, {'height': 300, 'url': 'https://i.scdn.co/image/ab67616d00001e0256ac7b86e090f307e218e9c8', 'width': 300}, {'height': 64, 'url': 'https://i.scdn.co/image/ab67616d0000485156ac7b86e090f307e218e9c8', 'width': 64}], 'name': 'thank u, next', 'release_date': '2019-02-08', 'release_date_precision': 'day', 'total_tracks': 12, 'type': 'album', 'uri': 'spotify:album:2fYhqwDWXjbpjaIJPEfKFw'}, 'artists': [{'external_urls': {'spotify': 'https://open.spotify.com/artist/66CXWjxzNUsdJxJ2JdwvnR'}, 'href': 'https://api.spotify.com/v1/artists/66CXWjxzNUsdJxJ2JdwvnR', 'id': '66CXWjxzNUsdJxJ2JdwvnR', 'name': 'Ariana Grande', 'type': 'artist', 'uri': 'spotify:artist:66CXWjxzNUsdJxJ2JdwvnR'}], 'available_markets': ['AD', 'AE', 'AG', 'AL', 'AM', 'AO', 'AR', 'AT', 'AU', 'AZ', 'BA', 'BB', 'BD', 'BE', 'BG', 'BH', 'BI', 'BJ', 'BO', 'BR', 'BS', 'BT', 'BW', 'BZ', 'CA', 'CD', 'CG', 'CH', 'CI', 'CL', 'CM', 'CO', 'CR', 'CV', 'CW', 'CY', 'CZ', 'DE', 'DJ', 'DK', 'DM', 'DO', 'DZ', 'EC', 'EE', 'EG', 'ES', 'FI', 'FJ', 'FM', 'FR', 'GA', 'GB', 'GD', 'GE', 'GH', 'GM', 'GN', 'GQ', 'GR', 'GT', 'GW', 'GY', 'HK', 'HN', 'HR', 'HT', 'HU', 'ID', 'IE', 'IL', 'IN', 'IQ', 'IS', 'IT', 'JM', 'JO', 'JP', 'KE', 'KG', 'KH', 'KI', 'KM', 'KN', 'KR', 'KW', 'KZ', 'LA', 'LB', 'LC', 'LI', 'LK', 'LR', 'LS', 'LT', 'LU', 'LV', 'LY', 'MA', 'MC', 'MD', 'ME', 'MG', 'MH', 'MK', 'ML', 'MN', 'MO', 'MR', 'MT', 'MU', 'MV', 'MW', 'MX', 'MY', 'MZ', 'NA', 'NE', 'NG', 'NI', 'NL', 'NO', 'NR', 'NZ', 'OM', 'PA', 'PE', 'PG', 'PH', 'PK', 'PL', 'PS', 'PT', 'PW', 'PY', 'QA', 'RO', 'RS', 'RU', 'RW', 'SA', 'SB', 'SC', 'SE', 'SG', 'SI', 'SK', 'SL', 'SM', 'SN', 'SR', 'ST', 'SV', 'SZ', 'TD', 'TG', 'TH', 'TJ', 'TL', 'TN', 'TO', 'TR', 'TT', 'TV', 'TW', 'TZ', 'UA', 'UG', 'US', 'UY', 'VC', 'VE', 'VN', 'VU', 'WS', 'XK', 'ZA', 'ZM', 'ZW'], 'disc_number': 1, 'duration_ms': 178626, 'episode': False, 'explicit': True, 'external_ids': {'isrc': 'USUM71900110'}, 'external_urls': {'spotify': 'https://open.spotify.com/track/6ocbgoVGwYJhOv1GgI9NsF'}, 'href': 'https://api.spotify.com/v1/tracks/6ocbgoVGwYJhOv1GgI9NsF', 'id': '6ocbgoVGwYJhOv1GgI9NsF', 'is_local': False, 'name': '7 rings', 'popularity': 87, 'preview_url': None, 'track': True, 'track_number': 10, 'type': 'track', 'uri': 'spotify:track:6ocbgoVGwYJhOv1GgI9NsF'}, 'video_thumbnail': {'url': None}}, {'added_at': '2022-01-17T18:09:58Z', 'added_by': {'external_urls': {'spotify': 'https://open.spotify.com/user/12167982535'}, 'href': 'https://api.spotify.com/v1/users/12167982535', 'id': '12167982535', 'type': 'user', 'uri': 'spotify:user:12167982535'}, 'is_local': False, 'primary_color': None, 'track': {'album': {'album_type': 'album', 'artists': [{'external_urls': {'spotify': 'https://open.spotify.com/artist/6FBDaR13swtiWwGhX1WQsP'}, 'href': 'https://api.spotify.com/v1/artists/6FBDaR13swtiWwGhX1WQsP', 'id': '6FBDaR13swtiWwGhX1WQsP', 'name': 'blink-182', 'type': 'artist', 'uri': 'spotify:artist:6FBDaR13swtiWwGhX1WQsP'}], 'available_markets': [], 'external_urls': {'spotify': 'https://open.spotify.com/album/5qt11cWjSs5Gbqj2Wyfu38'}, 'href': 'https://api.spotify.com/v1/albums/5qt11cWjSs5Gbqj2Wyfu38', 'id': '5qt11cWjSs5Gbqj2Wyfu38', 'images': [{'height': 640, 'url': 'https://i.scdn.co/image/ab67616d0000b273645606c85724da85f15f6dee', 'width': 640}, {'height': 300, 'url': 'https://i.scdn.co/image/ab67616d00001e02645606c85724da85f15f6dee', 'width': 300}, {'height': 64, 'url': 'https://i.scdn.co/image/ab67616d00004851645606c85724da85f15f6dee', 'width': 64}], 'name': 'Enema Of The State', 'release_date': '1999-01-01', 'release_date_precision': 'day', 'total_tracks': 12, 'type': 'album', 'uri': 'spotify:album:5qt11cWjSs5Gbqj2Wyfu38'}, 'artists': [{'external_urls': {'spotify': 'https://open.spotify.com/artist/6FBDaR13swtiWwGhX1WQsP'}, 'href': 'https://api.spotify.com/v1/artists/6FBDaR13swtiWwGhX1WQsP', 'id': '6FBDaR13swtiWwGhX1WQsP', 'name': 'blink-182', 'type': 'artist', 'uri': 'spotify:artist:6FBDaR13swtiWwGhX1WQsP'}], 'available_markets': [], 'disc_number': 1, 'duration_ms': 249753, 'episode': False, 'explicit': False, 'external_ids': {'isrc': 'USMC19959122'}, 'external_urls': {'spotify': 'https://open.spotify.com/track/43NhiKnrtGqztxDqXrcUux'}, 'href': 'https://api.spotify.com/v1/tracks/43NhiKnrtGqztxDqXrcUux', 'id': '43NhiKnrtGqztxDqXrcUux', 'is_local': False, 'name': \"Adam's Song\", 'popularity': 0, 'preview_url': None, 'track': True, 'track_number': 7, 'type': 'track', 'uri': 'spotify:track:43NhiKnrtGqztxDqXrcUux'}, 'video_thumbnail': {'url': None}}], 'limit': 100, 'next': None, 'offset': 0, 'previous': None, 'total': 11}\n"
     ]
    }
   ],
   "source": [
    "print(sp.playlist_tracks(playlist_URI))"
   ]
  },
  {
   "cell_type": "code",
   "execution_count": 122,
   "metadata": {},
   "outputs": [
    {
     "name": "stdout",
     "output_type": "stream",
     "text": [
      "{'album': {'album_type': 'album', 'artists': [{'external_urls': {'spotify': 'https://open.spotify.com/artist/6FBDaR13swtiWwGhX1WQsP'}, 'href': 'https://api.spotify.com/v1/artists/6FBDaR13swtiWwGhX1WQsP', 'id': '6FBDaR13swtiWwGhX1WQsP', 'name': 'blink-182', 'type': 'artist', 'uri': 'spotify:artist:6FBDaR13swtiWwGhX1WQsP'}], 'available_markets': [], 'external_urls': {'spotify': 'https://open.spotify.com/album/5qt11cWjSs5Gbqj2Wyfu38'}, 'href': 'https://api.spotify.com/v1/albums/5qt11cWjSs5Gbqj2Wyfu38', 'id': '5qt11cWjSs5Gbqj2Wyfu38', 'images': [{'height': 640, 'url': 'https://i.scdn.co/image/ab67616d0000b273645606c85724da85f15f6dee', 'width': 640}, {'height': 300, 'url': 'https://i.scdn.co/image/ab67616d00001e02645606c85724da85f15f6dee', 'width': 300}, {'height': 64, 'url': 'https://i.scdn.co/image/ab67616d00004851645606c85724da85f15f6dee', 'width': 64}], 'name': 'Enema Of The State', 'release_date': '1999-01-01', 'release_date_precision': 'day', 'total_tracks': 12, 'type': 'album', 'uri': 'spotify:album:5qt11cWjSs5Gbqj2Wyfu38'}, 'artists': [{'external_urls': {'spotify': 'https://open.spotify.com/artist/6FBDaR13swtiWwGhX1WQsP'}, 'href': 'https://api.spotify.com/v1/artists/6FBDaR13swtiWwGhX1WQsP', 'id': '6FBDaR13swtiWwGhX1WQsP', 'name': 'blink-182', 'type': 'artist', 'uri': 'spotify:artist:6FBDaR13swtiWwGhX1WQsP'}], 'available_markets': [], 'disc_number': 1, 'duration_ms': 249753, 'explicit': False, 'external_ids': {'isrc': 'USMC19959122'}, 'external_urls': {'spotify': 'https://open.spotify.com/track/43NhiKnrtGqztxDqXrcUux'}, 'href': 'https://api.spotify.com/v1/tracks/43NhiKnrtGqztxDqXrcUux', 'id': '43NhiKnrtGqztxDqXrcUux', 'is_local': False, 'name': \"Adam's Song\", 'popularity': 0, 'preview_url': None, 'track_number': 7, 'type': 'track', 'uri': 'spotify:track:43NhiKnrtGqztxDqXrcUux'}\n"
     ]
    }
   ],
   "source": [
    "for track in sp.playlist_tracks(playlist_URI)[\"items\"]:\n",
    "    track_uri = track[\"track\"][\"uri\"]\n",
    "\n",
    "print(sp.track(track_uri))"
   ]
  },
  {
   "cell_type": "code",
   "execution_count": 123,
   "metadata": {},
   "outputs": [
    {
     "name": "stdout",
     "output_type": "stream",
     "text": [
      "{'danceability': 0.514, 'energy': 0.771, 'key': 0, 'loudness': -5.756, 'mode': 1, 'speechiness': 0.0364, 'acousticness': 0.039, 'instrumentalness': 0, 'liveness': 0.262, 'valence': 0.359, 'tempo': 136.058, 'type': 'audio_features', 'id': '43NhiKnrtGqztxDqXrcUux', 'uri': 'spotify:track:43NhiKnrtGqztxDqXrcUux', 'track_href': 'https://api.spotify.com/v1/tracks/43NhiKnrtGqztxDqXrcUux', 'analysis_url': 'https://api.spotify.com/v1/audio-analysis/43NhiKnrtGqztxDqXrcUux', 'duration_ms': 249754, 'time_signature': 4}\n"
     ]
    }
   ],
   "source": [
    "for track in sp.playlist_tracks(playlist_URI)[\"items\"]:\n",
    "    track_uri = track[\"track\"][\"uri\"]\n",
    "\n",
    "print(sp.audio_features(track_uri)[0])"
   ]
  },
  {
   "cell_type": "code",
   "execution_count": 124,
   "metadata": {},
   "outputs": [],
   "source": [
    "track_id = 1\n",
    "\n",
    "# Song Library\n",
    "sl_tr_id = []\n",
    "sl_tr_uri = []\n",
    "sl_tr_name = []\n",
    "\n",
    "sl_ar_uri = []\n",
    "sl_ar_names =[]\n",
    "sl_ar_name = []\n",
    "sl_ar_name2 = []\n",
    "sl_ar_name3 = []\n",
    "sl_ar_name4 = []\n",
    "sl_ar_name5 = []\n",
    "sl_ar_name6 = []\n",
    "sl_ar_name7 = []\n",
    "sl_ar_name8 = []\n",
    "sl_ar_name9 = []\n",
    "sl_ar_name10 = []\n",
    "\n",
    "sl_tr_duration_ms =[]\n",
    "sl_tr_album = []\n",
    "sl_tr_pop = []\n",
    "\n",
    "sl_tr_danceability = []\n",
    "sl_tr_energy = []\n",
    "sl_tr_key = []\n",
    "sl_tr_loudness = []\n",
    "sl_tr_mode = []\n",
    "sl_tr_speechiness = []\n",
    "sl_tr_acousticness = []\n",
    "sl_tr_instrumentalness = []\n",
    "sl_tr_liveness = []\n",
    "sl_tr_valence = []\n",
    "sl_tr_tempo = []\n",
    "\n",
    "Duplicate_Index = []\n",
    "Duplicate_ID = []"
   ]
  },
  {
   "cell_type": "code",
   "execution_count": 125,
   "metadata": {},
   "outputs": [],
   "source": [
    "for track in sp.playlist_tracks(playlist_URI)[\"items\"]:\n",
    "    # Track Name and URI\n",
    "    track_name = track[\"track\"][\"name\"]\n",
    "    track_name = str(track_name)\n",
    "    track_uri = track[\"track\"][\"uri\"]\n",
    "    sl_tr_uri.append(track_uri)\n",
    "\n",
    "    # Artists\n",
    "    track_artists_name = []\n",
    "    track_artists_uri = []\n",
    "\n",
    "    i = 0\n",
    "    for i in range (10):\n",
    "        artist_uri = track[\"track\"][\"artists\"][i][\"uri\"]\n",
    "\n",
    "        track_artists_uri.append(track[\"track\"][\"artists\"][i][\"uri\"])\n",
    "        track_artists_name.append(track[\"track\"][\"artists\"][i][\"name\"])\n",
    "\n",
    "        i = i + 1\n",
    "        try: track[\"track\"][\"artists\"][i][\"name\"]\n",
    "        except IndexError:\n",
    "            for y in range (10-i):\n",
    "                track_artists_uri.append(\"\")\n",
    "                track_artists_name.append(\"\")\n",
    "            break\n",
    "\n",
    "    # Add Artists To Song Library\n",
    "    sl_ar_uri.append(track_artists_uri)\n",
    "\n",
    "    sl_ar_names.append(track_artists_name)\n",
    "\n",
    "    sl_ar_name.append(track_artists_name[0])\n",
    "    sl_ar_name2.append(track_artists_name[1])\n",
    "    sl_ar_name3.append(track_artists_name[2])\n",
    "    sl_ar_name4.append(track_artists_name[3])\n",
    "    sl_ar_name5.append(track_artists_name[4])\n",
    "    sl_ar_name6.append(track_artists_name[5])\n",
    "    sl_ar_name7.append(track_artists_name[6])\n",
    "    sl_ar_name8.append(track_artists_name[7])\n",
    "    sl_ar_name9.append(track_artists_name[8])\n",
    "    sl_ar_name10.append(track_artists_name[9])\n",
    "\n",
    "    # Track Duration\n",
    "    track_duration_ms = sp.audio_features(track_uri)[0][\"duration_ms\"]\n",
    "    sl_tr_duration_ms.append(track_duration_ms)\n",
    "\n",
    "    # Track Album\n",
    "    album = track[\"track\"][\"album\"][\"name\"]\n",
    "    sl_tr_album.append(album)\n",
    "\n",
    "    # Track Popularity\n",
    "    track_pop = track[\"track\"][\"popularity\"]\n",
    "    sl_tr_pop.append(track_pop)\n",
    "\n",
    "    # Track Audio Features\n",
    "    sl_tr_danceability.append(sp.audio_features(track_uri)[0][\"danceability\"])\n",
    "    sl_tr_energy.append(sp.audio_features(track_uri)[0][\"energy\"])\n",
    "    sl_tr_key.append(sp.audio_features(track_uri)[0][\"key\"])\n",
    "    sl_tr_loudness.append(sp.audio_features(track_uri)[0][\"loudness\"])\n",
    "    sl_tr_mode.append(sp.audio_features(track_uri)[0][\"mode\"])\n",
    "    sl_tr_speechiness.append(sp.audio_features(track_uri)[0][\"speechiness\"])\n",
    "    sl_tr_acousticness.append(sp.audio_features(track_uri)[0][\"acousticness\"])\n",
    "    sl_tr_instrumentalness.append(sp.audio_features(track_uri)[0][\"instrumentalness\"])\n",
    "    sl_tr_liveness.append(sp.audio_features(track_uri)[0][\"liveness\"])\n",
    "    sl_tr_valence.append(sp.audio_features(track_uri)[0][\"valence\"])\n",
    "    sl_tr_tempo.append(sp.audio_features(track_uri)[0][\"tempo\"])\n",
    "\n",
    "    # Duplicate Songs\n",
    "    current_index = len(sl_tr_name)\n",
    "\n",
    "    if track_name in sl_tr_name:\n",
    "        dup_index = sl_tr_name.index(track_name)\n",
    "        if sl_ar_uri[dup_index] == track_artists_uri:\n",
    "            Duplicate_Index[dup_index] = dup_index\n",
    "            Duplicate_Index.append(dup_index)\n",
    "    else:\n",
    "        Duplicate_Index.append('')\n",
    "\n",
    "    # Add Track Name Now\n",
    "    # Avoids disturbing Duplicates\n",
    "    sl_tr_name.append(track_name)"
   ]
  },
  {
   "cell_type": "code",
   "execution_count": 126,
   "metadata": {},
   "outputs": [
    {
     "name": "stdout",
     "output_type": "stream",
     "text": [
      "{'danceability': 0.514, 'energy': 0.771, 'key': 0, 'loudness': -5.756, 'mode': 1, 'speechiness': 0.0364, 'acousticness': 0.039, 'instrumentalness': 0, 'liveness': 0.262, 'valence': 0.359, 'tempo': 136.058, 'type': 'audio_features', 'id': '43NhiKnrtGqztxDqXrcUux', 'uri': 'spotify:track:43NhiKnrtGqztxDqXrcUux', 'track_href': 'https://api.spotify.com/v1/tracks/43NhiKnrtGqztxDqXrcUux', 'analysis_url': 'https://api.spotify.com/v1/audio-analysis/43NhiKnrtGqztxDqXrcUux', 'duration_ms': 249754, 'time_signature': 4}\n"
     ]
    }
   ],
   "source": [
    "print(sp.audio_features(track_uri)[0])"
   ]
  },
  {
   "cell_type": "code",
   "execution_count": 128,
   "metadata": {},
   "outputs": [],
   "source": [
    "df = pd.DataFrame()\n",
    "\n",
    "# Song Library\n",
    "\n",
    "df['ID'] = ''\n",
    "df['Duplicates'] = Duplicate_Index\n",
    "df['Song'] = sl_tr_name\n",
    "df['Artist 1'] = sl_ar_name\n",
    "df['Artist 2'] = sl_ar_name2\n",
    "df['Artist 3'] = sl_ar_name3\n",
    "df['Artist 4'] = sl_ar_name4\n",
    "df['Artist 5'] = sl_ar_name5\n",
    "df['Artist 6'] = sl_ar_name6\n",
    "df['Artist 7'] = sl_ar_name7\n",
    "df['Artist 8'] = sl_ar_name8\n",
    "df['Artist 9'] = sl_ar_name9\n",
    "df['Artist 10'] = sl_ar_name10\n",
    "df['Duration'] = sl_tr_duration_ms\n",
    "df['Album'] = sl_tr_album\n",
    "df['Popularity'] = sl_tr_pop\n",
    "\n",
    "df['Dance'] = sl_tr_danceability\n",
    "df['Energy'] = sl_tr_energy\n",
    "df['Key'] = sl_tr_key\n",
    "df['Volume'] = sl_tr_loudness\n",
    "df['Mode'] = sl_tr_mode\n",
    "df['Speech'] = sl_tr_speechiness\n",
    "df['Acoustic'] = sl_tr_acousticness\n",
    "df['Instrumental'] = sl_tr_instrumentalness\n",
    "df['Lively'] = sl_tr_liveness\n",
    "df['Valence'] = sl_tr_valence\n",
    "df['Tempo'] = sl_tr_tempo\n",
    "\n",
    "df['URI'] = sl_tr_uri\n",
    "df['Artists URIs'] = sl_ar_uri\n",
    "\n",
    "# Sort Alphabetically by Artist -> Album -> Song\n",
    "df = df.sort_values(['Artist 1', 'Album', 'Song'], ascending = True)\n",
    "\n",
    "# Track IDs\n",
    "sl_tr_id = list(range(1,len(sl_tr_name)+1))\n",
    "df['ID'] = sl_tr_id\n",
    "\n",
    "df = df.sort_values(['Popularity'])\n",
    "df = df.drop_duplicates(subset = ['Song', 'Artist 1', 'Artist 2', 'Artist 3', 'Artist 4', 'Artist 5'], keep = 'first')\n",
    "\n",
    "#Creating CSV\n",
    "df.to_csv(r'C:\\Users\\mackt\\Python\\Music Libarary\\Music Library\\Music_Gala.csv',index = False)"
   ]
  },
  {
   "cell_type": "code",
   "execution_count": 129,
   "metadata": {},
   "outputs": [
    {
     "name": "stdout",
     "output_type": "stream",
     "text": [
      "   ID Duplicates                   Song       Artist 1              Artist 2  \\\n",
      "4  10          3            Adam's Song      blink-182                         \n",
      "5   1          5                7 rings  Ariana Grande                         \n",
      "2   6                   When We're High             LP                         \n",
      "7   8             Superhero In My Sleep          Rival  Asketa & Natan Chaim   \n",
      "1   7                           How Low       Ludacris                         \n",
      "8   3                         All Alone  Freddie Dredd                         \n",
      "6   4                           Cha Cha  Freddie Dredd                         \n",
      "0   5                               GTG  Freddie Dredd                         \n",
      "\n",
      "  Artist 3 Artist 4 Artist 5 Artist 6 Artist 7  ...  Volume Mode  Speech  \\\n",
      "4                                               ...  -5.754    1  0.0338   \n",
      "5                                               ... -10.744    0  0.3230   \n",
      "2                                               ...  -5.186    0  0.0383   \n",
      "7                                               ...  -5.921    0  0.0471   \n",
      "1                                               ...  -6.977    1  0.0533   \n",
      "8                                               ...  -3.525    1  0.2840   \n",
      "6                                               ...  -6.364    1  0.1720   \n",
      "0                                               ...  -6.875    0  0.1250   \n",
      "\n",
      "   Acoustic Instrumental  Lively  Valence    Tempo  \\\n",
      "4   0.04380     0.000000  0.3640    0.490  136.089   \n",
      "5   0.57800     0.000000  0.0884    0.319   70.142   \n",
      "2   0.02140     0.000007  0.1140    0.573  112.996   \n",
      "7   0.03390     0.001190  0.0948    0.260  103.004   \n",
      "1   0.00248     0.000001  0.2240    0.418  143.960   \n",
      "8   0.03840     0.502000  0.1260    0.813  159.933   \n",
      "6   0.48900     0.078800  0.1270    0.751  129.971   \n",
      "0   0.16400     0.017100  0.0957    0.974  154.955   \n",
      "\n",
      "                                    URI  \\\n",
      "4  spotify:track:4RNeJ1qy9feTpgCI8xxQM1   \n",
      "5  spotify:track:14msK75pk3pA33pzPVNtBF   \n",
      "2  spotify:track:2DYGrX2I5xqTUMY71heari   \n",
      "7  spotify:track:1BHhgOM82RNW9fjZS6cPVs   \n",
      "1  spotify:track:1WtTLtofvcjQM3sXSMkDdX   \n",
      "8  spotify:track:5V5BHmvpylV0nSc2Yu2Mu4   \n",
      "6  spotify:track:1vvBUZseJ7fwYPX1NedOLd   \n",
      "0  spotify:track:46M2hXnaQpueG7vSvgVtVH   \n",
      "\n",
      "                                        Artists URIs  \n",
      "4  [spotify:artist:6FBDaR13swtiWwGhX1WQsP, , , , ...  \n",
      "5  [spotify:artist:66CXWjxzNUsdJxJ2JdwvnR, , , , ...  \n",
      "2  [spotify:artist:0J7U24vlOOIeMpuaO6Q85A, , , , ...  \n",
      "7  [spotify:artist:4u1nYxjl132D6rcMeYQ6Zz, spotif...  \n",
      "1  [spotify:artist:3ipn9JLAPI5GUEo4y4jcoi, , , , ...  \n",
      "8  [spotify:artist:0dlDsD7y6ccmDm8tuWCU6F, , , , ...  \n",
      "6  [spotify:artist:0dlDsD7y6ccmDm8tuWCU6F, , , , ...  \n",
      "0  [spotify:artist:0dlDsD7y6ccmDm8tuWCU6F, , , , ...  \n",
      "\n",
      "[8 rows x 29 columns]\n"
     ]
    }
   ],
   "source": [
    "print(df)"
   ]
  },
  {
   "cell_type": "code",
   "execution_count": null,
   "metadata": {},
   "outputs": [],
   "source": []
  }
 ],
 "metadata": {
  "interpreter": {
   "hash": "57baa5815c940fdaff4d14510622de9616cae602444507ba5d0b6727c008cbd6"
  },
  "kernelspec": {
   "display_name": "Python 3.7.8 64-bit",
   "language": "python",
   "name": "python3"
  },
  "language_info": {
   "codemirror_mode": {
    "name": "ipython",
    "version": 3
   },
   "file_extension": ".py",
   "mimetype": "text/x-python",
   "name": "python",
   "nbconvert_exporter": "python",
   "pygments_lexer": "ipython3",
   "version": "3.9.3"
  },
  "orig_nbformat": 4
 },
 "nbformat": 4,
 "nbformat_minor": 2
}
